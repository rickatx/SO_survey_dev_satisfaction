{
 "cells": [
  {
   "cell_type": "code",
   "execution_count": 116,
   "metadata": {},
   "outputs": [],
   "source": [
    "import numpy as np\n",
    "import pandas as pd\n",
    "import matplotlib.pyplot as plt\n",
    "import seaborn as sns\n",
    "import numpy as np\n",
    "%matplotlib inline"
   ]
  },
  {
   "cell_type": "markdown",
   "metadata": {},
   "source": [
    "# Business Understanding\n",
    "\n",
    "The goal of this work is to understand the impact of software developer role types on job satisfaction. In particular, we are interested in addressing the following questions:\n",
    "\n",
    "1. What is the magnitude of the effect of developer role types on job satisfaction compared to other factors?\n",
    "2. How do developer roles compare to one another in the job satisfaction reported in the survey?\n",
    "3. Are the reported differences in job satisfaction among developer roles statistically significant?\n",
    "\n",
    "**Note** that question (1) is addressed in the notebook `Predict JobSat.ipynb`."
   ]
  },
  {
   "cell_type": "markdown",
   "metadata": {},
   "source": [
    "# Data Understanding\n",
    "\n",
    "A key step toward  understanding the data in order to answer our questions was reading the descriptions of the survey and dataset, found at the 2020 \"Download Full Dataset (CSV)\" link from this page: https://insights.stackoverflow.com/survey/.\n",
    "\n",
    "I determined that the following survey responses would be useful for addressing Question (1):\n",
    "\n",
    "- Age of respondent\n",
    "- Age began coding \n",
    "- Country of residence \n",
    "- Compensation (converted to U.S. dollars)\n",
    "- Developer Type (one or more types of development done by respondent)\n",
    "- Educational Importance (self-assessed importance of education to respondent’s career)\n",
    "- Education Level (level of formal education)\n",
    "- Gender\n",
    "- Hobbyist (whether respondent codes as a hobby)\n",
    "- Learn (frequency of learning a new language or framework)\n",
    "- Org Size (size of respondent’s employer)\n",
    "- Overtime (frequency of overtime work)\n",
    "- Undergrad Major (primary field of study for college attendees)\n",
    "- Years Coded (total number of years respondent has coded)\n",
    "- Years Coded Professionally."
   ]
  },
  {
   "cell_type": "markdown",
   "metadata": {},
   "source": [
    "## Load Data"
   ]
  },
  {
   "cell_type": "code",
   "execution_count": 2,
   "metadata": {
    "scrolled": true
   },
   "outputs": [],
   "source": [
    "df_2020 = pd.read_csv(r'data\\StackOverflow\\developer_survey_2020\\survey_results_public.csv')"
   ]
  },
  {
   "cell_type": "code",
   "execution_count": 3,
   "metadata": {},
   "outputs": [
    {
     "data": {
      "text/plain": [
       "(64461, 61)"
      ]
     },
     "execution_count": 3,
     "metadata": {},
     "output_type": "execute_result"
    }
   ],
   "source": [
    "df_2020.shape"
   ]
  },
  {
   "cell_type": "markdown",
   "metadata": {},
   "source": [
    "## Investigate Data/Features"
   ]
  },
  {
   "cell_type": "code",
   "execution_count": 4,
   "metadata": {
    "scrolled": true
   },
   "outputs": [
    {
     "data": {
      "text/plain": [
       "['Respondent',\n",
       " 'MainBranch',\n",
       " 'Hobbyist',\n",
       " 'Age',\n",
       " 'Age1stCode',\n",
       " 'CompFreq',\n",
       " 'CompTotal',\n",
       " 'ConvertedComp',\n",
       " 'Country',\n",
       " 'CurrencyDesc',\n",
       " 'CurrencySymbol',\n",
       " 'DatabaseDesireNextYear',\n",
       " 'DatabaseWorkedWith',\n",
       " 'DevType',\n",
       " 'EdLevel',\n",
       " 'Employment',\n",
       " 'Ethnicity',\n",
       " 'Gender',\n",
       " 'JobFactors',\n",
       " 'JobSat',\n",
       " 'JobSeek',\n",
       " 'LanguageDesireNextYear',\n",
       " 'LanguageWorkedWith',\n",
       " 'MiscTechDesireNextYear',\n",
       " 'MiscTechWorkedWith',\n",
       " 'NEWCollabToolsDesireNextYear',\n",
       " 'NEWCollabToolsWorkedWith',\n",
       " 'NEWDevOps',\n",
       " 'NEWDevOpsImpt',\n",
       " 'NEWEdImpt',\n",
       " 'NEWJobHunt',\n",
       " 'NEWJobHuntResearch',\n",
       " 'NEWLearn',\n",
       " 'NEWOffTopic',\n",
       " 'NEWOnboardGood',\n",
       " 'NEWOtherComms',\n",
       " 'NEWOvertime',\n",
       " 'NEWPurchaseResearch',\n",
       " 'NEWPurpleLink',\n",
       " 'NEWSOSites',\n",
       " 'NEWStuck',\n",
       " 'OpSys',\n",
       " 'OrgSize',\n",
       " 'PlatformDesireNextYear',\n",
       " 'PlatformWorkedWith',\n",
       " 'PurchaseWhat',\n",
       " 'Sexuality',\n",
       " 'SOAccount',\n",
       " 'SOComm',\n",
       " 'SOPartFreq',\n",
       " 'SOVisitFreq',\n",
       " 'SurveyEase',\n",
       " 'SurveyLength',\n",
       " 'Trans',\n",
       " 'UndergradMajor',\n",
       " 'WebframeDesireNextYear',\n",
       " 'WebframeWorkedWith',\n",
       " 'WelcomeChange',\n",
       " 'WorkWeekHrs',\n",
       " 'YearsCode',\n",
       " 'YearsCodePro']"
      ]
     },
     "execution_count": 4,
     "metadata": {},
     "output_type": "execute_result"
    }
   ],
   "source": [
    "cols = list(df_2020.columns)\n",
    "cols.sort\n",
    "cols"
   ]
  },
  {
   "cell_type": "code",
   "execution_count": 229,
   "metadata": {
    "scrolled": true
   },
   "outputs": [
    {
     "name": "stdout",
     "output_type": "stream",
     "text": [
      "<class 'pandas.core.frame.DataFrame'>\n",
      "RangeIndex: 64461 entries, 0 to 64460\n",
      "Data columns (total 61 columns):\n",
      " #   Column                        Non-Null Count  Dtype  \n",
      "---  ------                        --------------  -----  \n",
      " 0   Respondent                    64461 non-null  int64  \n",
      " 1   MainBranch                    64162 non-null  object \n",
      " 2   Hobbyist                      64416 non-null  object \n",
      " 3   Age                           45446 non-null  float64\n",
      " 4   Age1stCode                    57900 non-null  object \n",
      " 5   CompFreq                      40069 non-null  object \n",
      " 6   CompTotal                     34826 non-null  float64\n",
      " 7   ConvertedComp                 34756 non-null  float64\n",
      " 8   Country                       64072 non-null  object \n",
      " 9   CurrencyDesc                  45472 non-null  object \n",
      " 10  CurrencySymbol                45472 non-null  object \n",
      " 11  DatabaseDesireNextYear        44070 non-null  object \n",
      " 12  DatabaseWorkedWith            49537 non-null  object \n",
      " 13  DevType                       49370 non-null  object \n",
      " 14  EdLevel                       57431 non-null  object \n",
      " 15  Employment                    63854 non-null  object \n",
      " 16  Ethnicity                     45948 non-null  object \n",
      " 17  Gender                        50557 non-null  object \n",
      " 18  JobFactors                    49349 non-null  object \n",
      " 19  JobSat                        45194 non-null  object \n",
      " 20  JobSeek                       51727 non-null  object \n",
      " 21  LanguageDesireNextYear        54113 non-null  object \n",
      " 22  LanguageWorkedWith            57378 non-null  object \n",
      " 23  MiscTechDesireNextYear        42379 non-null  object \n",
      " 24  MiscTechWorkedWith            40314 non-null  object \n",
      " 25  NEWCollabToolsDesireNextYear  47287 non-null  object \n",
      " 26  NEWCollabToolsWorkedWith      52883 non-null  object \n",
      " 27  NEWDevOps                     42686 non-null  object \n",
      " 28  NEWDevOpsImpt                 41732 non-null  object \n",
      " 29  NEWEdImpt                     48465 non-null  object \n",
      " 30  NEWJobHunt                    42286 non-null  object \n",
      " 31  NEWJobHuntResearch            41022 non-null  object \n",
      " 32  NEWLearn                      56156 non-null  object \n",
      " 33  NEWOffTopic                   50804 non-null  object \n",
      " 34  NEWOnboardGood                42623 non-null  object \n",
      " 35  NEWOtherComms                 57205 non-null  object \n",
      " 36  NEWOvertime                   43231 non-null  object \n",
      " 37  NEWPurchaseResearch           37321 non-null  object \n",
      " 38  NEWPurpleLink                 54803 non-null  object \n",
      " 39  NEWSOSites                    58275 non-null  object \n",
      " 40  NEWStuck                      54983 non-null  object \n",
      " 41  OpSys                         56228 non-null  object \n",
      " 42  OrgSize                       44334 non-null  object \n",
      " 43  PlatformDesireNextYear        50605 non-null  object \n",
      " 44  PlatformWorkedWith            53843 non-null  object \n",
      " 45  PurchaseWhat                  39364 non-null  object \n",
      " 46  Sexuality                     43992 non-null  object \n",
      " 47  SOAccount                     56805 non-null  object \n",
      " 48  SOComm                        56476 non-null  object \n",
      " 49  SOPartFreq                    46792 non-null  object \n",
      " 50  SOVisitFreq                   56970 non-null  object \n",
      " 51  SurveyEase                    51802 non-null  object \n",
      " 52  SurveyLength                  51701 non-null  object \n",
      " 53  Trans                         49345 non-null  object \n",
      " 54  UndergradMajor                50995 non-null  object \n",
      " 55  WebframeDesireNextYear        40024 non-null  object \n",
      " 56  WebframeWorkedWith            42279 non-null  object \n",
      " 57  WelcomeChange                 52683 non-null  object \n",
      " 58  WorkWeekHrs                   41151 non-null  float64\n",
      " 59  YearsCode                     57684 non-null  object \n",
      " 60  YearsCodePro                  46349 non-null  object \n",
      "dtypes: float64(4), int64(1), object(56)\n",
      "memory usage: 30.0+ MB\n"
     ]
    }
   ],
   "source": [
    "df_2020.info()"
   ]
  },
  {
   "cell_type": "markdown",
   "metadata": {},
   "source": [
    "### Feature Checks and Transformations"
   ]
  },
  {
   "cell_type": "markdown",
   "metadata": {},
   "source": [
    "#### Job Sat"
   ]
  },
  {
   "cell_type": "markdown",
   "metadata": {},
   "source": [
    "We have `JobSat` entries for 70% of respondents, 45,000."
   ]
  },
  {
   "cell_type": "code",
   "execution_count": 438,
   "metadata": {},
   "outputs": [
    {
     "data": {
      "text/plain": [
       "(45194, 0.7011060951583128)"
      ]
     },
     "execution_count": 438,
     "metadata": {},
     "output_type": "execute_result"
    }
   ],
   "source": [
    "df_2020.JobSat.notnull().sum(), df_2020.JobSat.notnull().mean()"
   ]
  },
  {
   "cell_type": "code",
   "execution_count": 439,
   "metadata": {
    "scrolled": true
   },
   "outputs": [
    {
     "data": {
      "text/plain": [
       "(19267, 0.2988939048416872)"
      ]
     },
     "execution_count": 439,
     "metadata": {},
     "output_type": "execute_result"
    }
   ],
   "source": [
    "df_2020.JobSat.isna().sum(), df_2020.JobSat.isna().mean()"
   ]
  },
  {
   "cell_type": "markdown",
   "metadata": {},
   "source": [
    "#### Employment"
   ]
  },
  {
   "cell_type": "code",
   "execution_count": 231,
   "metadata": {},
   "outputs": [
    {
     "data": {
      "text/plain": [
       "0.009416546438932067"
      ]
     },
     "execution_count": 231,
     "metadata": {},
     "output_type": "execute_result"
    }
   ],
   "source": [
    "df_2020.Employment.isna().mean()"
   ]
  },
  {
   "cell_type": "code",
   "execution_count": 234,
   "metadata": {},
   "outputs": [
    {
     "data": {
      "text/plain": [
       "Employed full-time                                      45270\n",
       "Student                                                  7787\n",
       "Independent contractor, freelancer, or self-employed     5672\n",
       "Not employed, but looking for work                       2343\n",
       "Employed part-time                                       2217\n",
       "Not employed, and not looking for work                    322\n",
       "Retired                                                   243\n",
       "Name: Employment, dtype: int64"
      ]
     },
     "execution_count": 234,
     "metadata": {},
     "output_type": "execute_result"
    }
   ],
   "source": [
    "empl_counts = df_2020.Employment.value_counts()\n",
    "empl_counts"
   ]
  },
  {
   "cell_type": "markdown",
   "metadata": {},
   "source": [
    "If `Employment` indicates respondent is not employed, is `JobSat` empty?\n",
    "\n",
    "**Answer:** Yes, if they are not employed, there is jo `JobSat` entry. i.e., no JobSat entry for:\n",
    "- Student\n",
    "- Not employed, but looking\n",
    "- Not employed, not looking\n",
    "- Retired"
   ]
  },
  {
   "cell_type": "code",
   "execution_count": 240,
   "metadata": {
    "scrolled": false
   },
   "outputs": [
    {
     "name": "stdout",
     "output_type": "stream",
     "text": [
      "Employed full-time: 6225 13.750828363154408%\n",
      "Student: 7787 100.0%\n",
      "Independent contractor, freelancer, or self-employed: 1112 19.605077574047954%\n",
      "Not employed, but looking for work: 2343 100.0%\n",
      "Employed part-time: 755 34.055029318899415%\n",
      "Not employed, and not looking for work: 322 100.0%\n",
      "Retired: 243 100.0%\n"
     ]
    }
   ],
   "source": [
    "for status in empl_counts.index:\n",
    "    subdf = df_2020[df_2020.Employment == status]\n",
    "    jobsatna = subdf.JobSat.isna()\n",
    "    print(f\"{status}: {jobsatna.sum()} {jobsatna.mean()*100}%\")"
   ]
  },
  {
   "cell_type": "markdown",
   "metadata": {},
   "source": [
    "#### Main Branch"
   ]
  },
  {
   "cell_type": "markdown",
   "metadata": {},
   "source": [
    "Similarly to `Employment`, if the status is inappropriate, there is no `JobSat` entry."
   ]
  },
  {
   "cell_type": "code",
   "execution_count": 440,
   "metadata": {
    "scrolled": false
   },
   "outputs": [
    {
     "data": {
      "text/plain": [
       "I am a developer by profession                                                   47193\n",
       "I am a student who is learning to code                                            7970\n",
       "I am not primarily a developer, but I write code sometimes as part of my work     5502\n",
       "I code primarily as a hobby                                                       2314\n",
       "I used to be a developer by profession, but no longer am                          1183\n",
       "Name: MainBranch, dtype: int64"
      ]
     },
     "execution_count": 440,
     "metadata": {},
     "output_type": "execute_result"
    }
   ],
   "source": [
    "main_branch_counts = df_2020.MainBranch.value_counts()\n",
    "main_branch_counts"
   ]
  },
  {
   "cell_type": "code",
   "execution_count": 441,
   "metadata": {},
   "outputs": [
    {
     "name": "stdout",
     "output_type": "stream",
     "text": [
      "I am a developer by profession: 6429 13.622783039857605%\n",
      "I am a student who is learning to code: 7970 100.0%\n",
      "I am not primarily a developer, but I write code sometimes as part of my work: 1072 19.483824063976733%\n",
      "I code primarily as a hobby: 2314 100.0%\n",
      "I used to be a developer by profession, but no longer am: 1183 100.0%\n"
     ]
    }
   ],
   "source": [
    "for status in main_branch_counts.index:\n",
    "    subdf = df_2020[df_2020.MainBranch == status]\n",
    "    jobsatna = subdf.JobSat.isna()\n",
    "    print(f\"{status}: {jobsatna.sum()} {jobsatna.mean()*100}%\")"
   ]
  },
  {
   "cell_type": "markdown",
   "metadata": {},
   "source": [
    "#### JobSeek\n",
    "This won't be of interest for this investigation."
   ]
  },
  {
   "cell_type": "code",
   "execution_count": 242,
   "metadata": {
    "scrolled": true
   },
   "outputs": [
    {
     "data": {
      "text/plain": [
       "I’m not actively looking, but I am open to new opportunities    29776\n",
       "I am not interested in new job opportunities                    13001\n",
       "I am actively looking for a job                                  8950\n",
       "Name: JobSeek, dtype: int64"
      ]
     },
     "execution_count": 242,
     "metadata": {},
     "output_type": "execute_result"
    }
   ],
   "source": [
    "df_2020.JobSeek.value_counts()"
   ]
  },
  {
   "cell_type": "markdown",
   "metadata": {},
   "source": [
    "#### UndergradMajor"
   ]
  },
  {
   "cell_type": "markdown",
   "metadata": {},
   "source": [
    "7% have nan here -- could fill with 'No Entry'."
   ]
  },
  {
   "cell_type": "code",
   "execution_count": 448,
   "metadata": {},
   "outputs": [
    {
     "data": {
      "text/plain": [
       "0.07443465946807098"
      ]
     },
     "execution_count": 448,
     "metadata": {},
     "output_type": "execute_result"
    }
   ],
   "source": [
    "df_2020[df_2020.JobSat.notnull()].UndergradMajor.isna().mean()"
   ]
  },
  {
   "cell_type": "code",
   "execution_count": 245,
   "metadata": {
    "scrolled": true
   },
   "outputs": [
    {
     "data": {
      "text/plain": [
       "Computer science, computer engineering, or software engineering                   31582\n",
       "Another engineering discipline (such as civil, electrical, mechanical, etc.)       4754\n",
       "Information systems, information technology, or system administration              4071\n",
       "A natural science (such as biology, chemistry, physics, etc.)                      2205\n",
       "Mathematics or statistics                                                          1849\n",
       "Web development or web design                                                      1789\n",
       "A business discipline (such as accounting, finance, marketing, etc.)               1375\n",
       "A humanities discipline (such as literature, history, philosophy, etc.)            1007\n",
       "A social science (such as anthropology, psychology, political science, etc.)        933\n",
       "Fine arts or performing arts (such as graphic design, music, studio art, etc.)      725\n",
       "I never declared a major                                                            453\n",
       "A health science (such as nursing, pharmacy, radiology, etc.)                       252\n",
       "Name: UndergradMajor, dtype: int64"
      ]
     },
     "execution_count": 245,
     "metadata": {},
     "output_type": "execute_result"
    }
   ],
   "source": [
    "df_2020.UndergradMajor.value_counts()"
   ]
  },
  {
   "cell_type": "markdown",
   "metadata": {},
   "source": [
    "#### Tools"
   ]
  },
  {
   "cell_type": "code",
   "execution_count": 246,
   "metadata": {
    "scrolled": true
   },
   "outputs": [
    {
     "data": {
      "text/plain": [
       "jQuery                                                  2079\n",
       "React.js                                                1917\n",
       "Spring                                                  1350\n",
       "Flask                                                   1074\n",
       "Django                                                   920\n",
       "                                                        ... \n",
       "Angular.js;ASP.NET;jQuery;Laravel;React.js;Vue.js          1\n",
       "Angular;ASP.NET Core;Express;jQuery;Symfony                1\n",
       "ASP.NET;Django;Express;jQuery;React.js;Ruby on Rails       1\n",
       "ASP.NET Core;Django;Express;Flask                          1\n",
       "Angular.js;Express;Laravel;React.js;Symfony;Vue.js         1\n",
       "Name: WebframeWorkedWith, Length: 3789, dtype: int64"
      ]
     },
     "execution_count": 246,
     "metadata": {},
     "output_type": "execute_result"
    }
   ],
   "source": [
    "df_2020.WebframeWorkedWith.value_counts()"
   ]
  },
  {
   "cell_type": "code",
   "execution_count": 247,
   "metadata": {},
   "outputs": [
    {
     "data": {
      "text/plain": [
       "0.3441150463070694"
      ]
     },
     "execution_count": 247,
     "metadata": {},
     "output_type": "execute_result"
    }
   ],
   "source": [
    "df_2020.WebframeWorkedWith.isna().mean()"
   ]
  },
  {
   "cell_type": "markdown",
   "metadata": {},
   "source": [
    "#### Age"
   ]
  },
  {
   "cell_type": "code",
   "execution_count": 255,
   "metadata": {
    "scrolled": true
   },
   "outputs": [
    {
     "data": {
      "text/plain": [
       "<matplotlib.axes._subplots.AxesSubplot at 0x2805979be48>"
      ]
     },
     "execution_count": 255,
     "metadata": {},
     "output_type": "execute_result"
    },
    {
     "data": {
      "image/png": "[encoded data removed]",
      "text/plain": [
       "<Figure size 864x360 with 1 Axes>"
      ]
     },
     "metadata": {
      "needs_background": "light"
     },
     "output_type": "display_data"
    }
   ],
   "source": [
    "df_2020.Age.hist(figsize=(12,5), bins=40)"
   ]
  },
  {
   "cell_type": "code",
   "execution_count": 256,
   "metadata": {
    "scrolled": true
   },
   "outputs": [
    {
     "data": {
      "text/plain": [
       "29.0"
      ]
     },
     "execution_count": 256,
     "metadata": {},
     "output_type": "execute_result"
    }
   ],
   "source": [
    "df_2020.Age.median()"
   ]
  },
  {
   "cell_type": "code",
   "execution_count": 435,
   "metadata": {},
   "outputs": [],
   "source": [
    "sorted_age = df_2020.Age[~df_2020.Age.isna()].sort_values()"
   ]
  },
  {
   "cell_type": "code",
   "execution_count": 436,
   "metadata": {
    "scrolled": true
   },
   "outputs": [
    {
     "data": {
      "text/plain": [
       "5354      76.0\n",
       "16601     76.0\n",
       "19522     77.0\n",
       "45457     77.0\n",
       "5069      77.0\n",
       "11018     77.0\n",
       "3184      77.0\n",
       "29732     78.0\n",
       "11861     78.0\n",
       "15138     78.0\n",
       "24572     78.0\n",
       "25741     78.0\n",
       "56852     78.0\n",
       "2023      78.0\n",
       "14348     79.0\n",
       "53504     79.0\n",
       "48921     79.0\n",
       "15162     79.0\n",
       "47520     80.0\n",
       "19935     80.0\n",
       "30282     80.0\n",
       "50908     81.0\n",
       "16481     81.0\n",
       "5689      81.0\n",
       "52768     83.0\n",
       "48649     83.0\n",
       "1564      84.0\n",
       "4833      85.0\n",
       "12064     85.0\n",
       "1199      86.0\n",
       "33617     88.0\n",
       "19863     89.0\n",
       "58214     89.0\n",
       "14779     94.0\n",
       "1438      94.0\n",
       "55778     95.0\n",
       "7186      96.0\n",
       "6382      97.0\n",
       "21268     98.0\n",
       "50963     99.0\n",
       "52838     99.0\n",
       "5926      99.0\n",
       "2625      99.0\n",
       "45324     99.0\n",
       "56725     99.0\n",
       "2510      99.0\n",
       "26740     99.0\n",
       "47567     99.0\n",
       "56904     99.0\n",
       "14375    279.0\n",
       "Name: Age, dtype: float64"
      ]
     },
     "execution_count": 436,
     "metadata": {},
     "output_type": "execute_result"
    }
   ],
   "source": [
    "sorted_age[-50:]"
   ]
  },
  {
   "cell_type": "code",
   "execution_count": 291,
   "metadata": {},
   "outputs": [
    {
     "data": {
      "text/plain": [
       "numpy.float64"
      ]
     },
     "execution_count": 291,
     "metadata": {},
     "output_type": "execute_result"
    }
   ],
   "source": [
    "type(df_2020.Age[0])"
   ]
  },
  {
   "cell_type": "markdown",
   "metadata": {},
   "source": [
    "#### YearsCode"
   ]
  },
  {
   "cell_type": "code",
   "execution_count": 257,
   "metadata": {
    "scrolled": true
   },
   "outputs": [
    {
     "data": {
      "text/plain": [
       "10                    4510\n",
       "5                     4249\n",
       "6                     3834\n",
       "7                     3477\n",
       "8                     3407\n",
       "4                     3254\n",
       "3                     2951\n",
       "15                    2586\n",
       "20                    2562\n",
       "12                    2453\n",
       "9                     2344\n",
       "2                     1916\n",
       "11                    1691\n",
       "14                    1479\n",
       "13                    1468\n",
       "25                    1338\n",
       "16                    1203\n",
       "30                    1114\n",
       "18                    1089\n",
       "17                    1057\n",
       "1                      902\n",
       "22                     792\n",
       "Less than 1 year       757\n",
       "19                     657\n",
       "35                     599\n",
       "23                     572\n",
       "21                     550\n",
       "40                     535\n",
       "24                     449\n",
       "26                     378\n",
       "27                     335\n",
       "28                     314\n",
       "32                     309\n",
       "38                     289\n",
       "37                     258\n",
       "36                     246\n",
       "33                     236\n",
       "34                     230\n",
       "29                     178\n",
       "39                     155\n",
       "31                     154\n",
       "More than 50 years     143\n",
       "42                     127\n",
       "45                     108\n",
       "41                      99\n",
       "43                      92\n",
       "44                      69\n",
       "46                      44\n",
       "50                      42\n",
       "48                      35\n",
       "47                      27\n",
       "49                      21\n",
       "Name: YearsCode, dtype: int64"
      ]
     },
     "execution_count": 257,
     "metadata": {},
     "output_type": "execute_result"
    }
   ],
   "source": [
    "df_2020.YearsCode.value_counts()"
   ]
  },
  {
   "cell_type": "code",
   "execution_count": 303,
   "metadata": {},
   "outputs": [],
   "source": [
    "def durationToNum(s):\n",
    "    if s == 'Less than 1 year':\n",
    "        return 0.5\n",
    "    elif s == 'More than 50 years':\n",
    "        return 55.0\n",
    "    else:\n",
    "        try:\n",
    "            return float(s)\n",
    "        except:\n",
    "            return np.nan"
   ]
  },
  {
   "cell_type": "code",
   "execution_count": 294,
   "metadata": {},
   "outputs": [
    {
     "data": {
      "text/plain": [
       "0.10513333643598455"
      ]
     },
     "execution_count": 294,
     "metadata": {},
     "output_type": "execute_result"
    }
   ],
   "source": [
    "df_2020.YearsCode.isna().mean()"
   ]
  },
  {
   "cell_type": "code",
   "execution_count": 379,
   "metadata": {},
   "outputs": [
    {
     "data": {
      "text/plain": [
       "<matplotlib.axes._subplots.AxesSubplot at 0x28065c79f88>"
      ]
     },
     "execution_count": 379,
     "metadata": {},
     "output_type": "execute_result"
    },
    {
     "data": {
      "image/png": "[encoded data removed]",
      "text/plain": [
       "<Figure size 432x288 with 1 Axes>"
      ]
     },
     "metadata": {
      "needs_background": "light"
     },
     "output_type": "display_data"
    }
   ],
   "source": [
    "df_2020.YearsCode.apply(durationToNum).hist(bins=40)"
   ]
  },
  {
   "cell_type": "code",
   "execution_count": 297,
   "metadata": {
    "scrolled": true
   },
   "outputs": [
    {
     "data": {
      "text/plain": [
       "numpy.float64"
      ]
     },
     "execution_count": 297,
     "metadata": {},
     "output_type": "execute_result"
    }
   ],
   "source": [
    "type(df_2020.YearsCode.apply(durationToInt)[0])"
   ]
  },
  {
   "cell_type": "markdown",
   "metadata": {},
   "source": [
    "#### NEWOvertime"
   ]
  },
  {
   "cell_type": "markdown",
   "metadata": {},
   "source": [
    "4% of respondents with non-null `JobSat` have no `NEWOvertime` value - recommend fillna()."
   ]
  },
  {
   "cell_type": "code",
   "execution_count": 444,
   "metadata": {
    "scrolled": true
   },
   "outputs": [
    {
     "data": {
      "text/plain": [
       "0.046156569456122495"
      ]
     },
     "execution_count": 444,
     "metadata": {},
     "output_type": "execute_result"
    }
   ],
   "source": [
    "df_2020[df_2020.JobSat.notnull()].NEWOvertime.isna().mean()"
   ]
  },
  {
   "cell_type": "code",
   "execution_count": 258,
   "metadata": {
    "scrolled": true
   },
   "outputs": [
    {
     "data": {
      "text/plain": [
       "Sometimes: 1-2 days per month but less than weekly          11547\n",
       "Often: 1-2 days per week or more                            11027\n",
       "Occasionally: 1-2 days per quarter but less than monthly     9468\n",
       "Rarely: 1-2 days per year or less                            6471\n",
       "Never                                                        4718\n",
       "Name: NEWOvertime, dtype: int64"
      ]
     },
     "execution_count": 258,
     "metadata": {},
     "output_type": "execute_result"
    }
   ],
   "source": [
    "df_2020.NEWOvertime.value_counts()"
   ]
  },
  {
   "cell_type": "code",
   "execution_count": 442,
   "metadata": {},
   "outputs": [],
   "source": [
    "overtime_categ = {'Never': 0, \n",
    "              'Rarely: 1-2 days per year or less': 1, \n",
    "              'Occasionally: 1-2 days per quarter but less than monthly': 2, \n",
    "              'Sometimes: 1-2 days per month but less than weekly': 3,\n",
    "              'Often: 1-2 days per week or more': 4\n",
    "             }\n",
    "overtimeEncoder = ce.OrdinalEncoder(cols = ['NEWOvertime'], \n",
    "                                    mapping= [{'col': 'NEWOvertime', 'mapping': overtime_categ}])"
   ]
  },
  {
   "cell_type": "markdown",
   "metadata": {},
   "source": [
    "#### Age1stCode"
   ]
  },
  {
   "cell_type": "code",
   "execution_count": 265,
   "metadata": {
    "scrolled": true
   },
   "outputs": [
    {
     "data": {
      "text/plain": [
       "15    5618\n",
       "14    5514\n",
       "16    5463\n",
       "18    5382\n",
       "12    5081\n",
       "      ... \n",
       "72       1\n",
       "68       1\n",
       "76       1\n",
       "63       1\n",
       "83       1\n",
       "Name: Age1stCode, Length: 63, dtype: int64"
      ]
     },
     "execution_count": 265,
     "metadata": {},
     "output_type": "execute_result"
    }
   ],
   "source": [
    "age1st_vc =df_2020.Age1stCode.value_counts()\n",
    "age1st_vc"
   ]
  },
  {
   "cell_type": "code",
   "execution_count": 272,
   "metadata": {},
   "outputs": [
    {
     "data": {
      "text/plain": [
       "float"
      ]
     },
     "execution_count": 272,
     "metadata": {},
     "output_type": "execute_result"
    }
   ],
   "source": [
    "type(df_2020.Age1stCode[df_2020.Age1stCode.isna()][74])"
   ]
  },
  {
   "cell_type": "code",
   "execution_count": 274,
   "metadata": {},
   "outputs": [
    {
     "data": {
      "text/plain": [
       "nan"
      ]
     },
     "execution_count": 274,
     "metadata": {},
     "output_type": "execute_result"
    }
   ],
   "source": [
    "np.nan"
   ]
  },
  {
   "cell_type": "code",
   "execution_count": 277,
   "metadata": {},
   "outputs": [],
   "source": [
    "def age1stToInt(s):\n",
    "    if s == 'Younger than 5 years':\n",
    "        return 4\n",
    "    elif s == 'Older than 85':\n",
    "        return 86\n",
    "    else:\n",
    "        try:\n",
    "            return int(s)\n",
    "        except:\n",
    "            return np.nan"
   ]
  },
  {
   "cell_type": "code",
   "execution_count": 282,
   "metadata": {
    "scrolled": true
   },
   "outputs": [
    {
     "data": {
      "text/plain": [
       "<matplotlib.axes._subplots.AxesSubplot at 0x2805a9f3b48>"
      ]
     },
     "execution_count": 282,
     "metadata": {},
     "output_type": "execute_result"
    },
    {
     "data": {
      "image/png": "[encoded data removed]",
      "text/plain": [
       "<Figure size 432x288 with 1 Axes>"
      ]
     },
     "metadata": {
      "needs_background": "light"
     },
     "output_type": "display_data"
    }
   ],
   "source": [
    "afc_numeric = df_2020.Age1stCode.apply(age1stToInt)\n",
    "afc_numeric.hist(bins=30)"
   ]
  },
  {
   "cell_type": "code",
   "execution_count": 288,
   "metadata": {},
   "outputs": [
    {
     "data": {
      "text/plain": [
       "2094.0"
      ]
     },
     "execution_count": 288,
     "metadata": {},
     "output_type": "execute_result"
    }
   ],
   "source": [
    "afc_numeric[afc_numeric > 60].sum()"
   ]
  },
  {
   "cell_type": "code",
   "execution_count": 281,
   "metadata": {
    "scrolled": true
   },
   "outputs": [
    {
     "name": "stdout",
     "output_type": "stream",
     "text": [
      "0.10178247312328384\n"
     ]
    },
    {
     "data": {
      "text/plain": [
       "0.10178247312328384"
      ]
     },
     "execution_count": 281,
     "metadata": {},
     "output_type": "execute_result"
    }
   ],
   "source": [
    "print(df_2020.Age1stCode.isna().mean())\n",
    "df_2020.Age1stCode.apply(age1stToInt).isna().mean()"
   ]
  },
  {
   "cell_type": "markdown",
   "metadata": {},
   "source": [
    "How many respondents of interest have nan values for Age1stCode? 0.5%"
   ]
  },
  {
   "cell_type": "code",
   "execution_count": 445,
   "metadata": {},
   "outputs": [
    {
     "data": {
      "text/plain": [
       "0.004956410142939328"
      ]
     },
     "execution_count": 445,
     "metadata": {},
     "output_type": "execute_result"
    }
   ],
   "source": [
    "df_2020[df_2020.JobSat.notnull()].Age1stCode.isna().mean()"
   ]
  },
  {
   "cell_type": "markdown",
   "metadata": {},
   "source": [
    "#### OrgSize"
   ]
  },
  {
   "cell_type": "code",
   "execution_count": 447,
   "metadata": {},
   "outputs": [
    {
     "data": {
      "text/plain": [
       "0.021573660220383237"
      ]
     },
     "execution_count": 447,
     "metadata": {},
     "output_type": "execute_result"
    }
   ],
   "source": [
    "df_2020[df_2020.JobSat.notnull()].OrgSize.isna().mean()"
   ]
  },
  {
   "cell_type": "code",
   "execution_count": 446,
   "metadata": {
    "scrolled": false
   },
   "outputs": [
    {
     "data": {
      "text/plain": [
       "20 to 99 employees                                    9597\n",
       "100 to 499 employees                                  8311\n",
       "10,000 or more employees                              6149\n",
       "1,000 to 4,999 employees                              4863\n",
       "2 to 9 employees                                      4409\n",
       "10 to 19 employees                                    4127\n",
       "500 to 999 employees                                  2880\n",
       "Just me - I am a freelancer, sole proprietor, etc.    2190\n",
       "5,000 to 9,999 employees                              1808\n",
       "Name: OrgSize, dtype: int64"
      ]
     },
     "execution_count": 446,
     "metadata": {},
     "output_type": "execute_result"
    }
   ],
   "source": [
    "df_2020.OrgSize.value_counts()"
   ]
  },
  {
   "cell_type": "markdown",
   "metadata": {},
   "source": [
    "#### NEWLearn"
   ]
  },
  {
   "cell_type": "code",
   "execution_count": 450,
   "metadata": {},
   "outputs": [
    {
     "data": {
      "text/plain": [
       "0.07817409390627074"
      ]
     },
     "execution_count": 450,
     "metadata": {},
     "output_type": "execute_result"
    }
   ],
   "source": [
    "df_2020[df_2020.JobSat.notnull()].NEWLearn.isna().mean()"
   ]
  },
  {
   "cell_type": "code",
   "execution_count": 453,
   "metadata": {
    "scrolled": true
   },
   "outputs": [
    {
     "data": {
      "text/plain": [
       "Every few months        20938\n",
       "Once a year             20693\n",
       "Once every few years    13284\n",
       "Once a decade            1241\n",
       "Name: NEWLearn, dtype: int64"
      ]
     },
     "execution_count": 453,
     "metadata": {},
     "output_type": "execute_result"
    }
   ],
   "source": [
    "df_2020.NEWLearn.value_counts()"
   ]
  },
  {
   "cell_type": "markdown",
   "metadata": {},
   "source": [
    "# Code\n",
    "\n",
    "This section contains code to address several of the questions introduced in **Section 1** **Business Understanding**:\n",
    "2. How do developer roles compare to one another in the job satisfaction reported in the survey?\n",
    "3. Are the reported differences in job satisfaction among developer roles statistically significant?"
   ]
  },
  {
   "cell_type": "markdown",
   "metadata": {},
   "source": [
    "## Weighted Satisfaction per DevType"
   ]
  },
  {
   "cell_type": "markdown",
   "metadata": {},
   "source": [
    "The assessment of overall reported satisfaction with a developer role is complicated somewhat by the fact that a respondent can report multiple development type roles that they perform. These roles are represented in the dataset in the delimited string of the 'DevType' column.\n",
    "\n",
    "The contribution of an individual's satisfaction to the mean satisfaction of a role should be proportional to the weight of that role in the individuals job. \n",
    "\n",
    "Since we have no information about the relative contribution of these roles to an individual's satisfaction, we divide the satisfaction score equally among the roles, weighting the satisfaction score by the reciprocal of the number of roles.\n",
    "\n",
    "The weighted mean score for a role is then given by the sum of the weighted scores for that role, divided by the sum of the role's weights."
   ]
  },
  {
   "cell_type": "code",
   "execution_count": 5,
   "metadata": {
    "scrolled": true
   },
   "outputs": [],
   "source": [
    "import category_encoders as ce"
   ]
  },
  {
   "cell_type": "code",
   "execution_count": 4,
   "metadata": {},
   "outputs": [],
   "source": [
    "def explode_dev_type_with_weighting(df):\n",
    "    \"\"\"\n",
    "    Explode the (delimited-string) DevType column into a row for each role. Also add\n",
    "    a 'DevTypeWeight' column that indicates the fractional weight of this role to \n",
    "    attribute to an individual\n",
    "    \n",
    "    Arguments:\n",
    "        df: dataFrame with column 'DevType'\n",
    "    \"\"\"\n",
    "    # drop rows with NaN values for DevType\n",
    "    df = (df\n",
    "          .dropna(subset=['DevType'])\n",
    "          .rename(columns={'DevType':'DevTypeString'}))\n",
    "    \n",
    "    # new DevType columns splits on ';' to create a list of dev types\n",
    "    df['DevType'] = df.DevTypeString.str.split(';')\n",
    "    \n",
    "    # Weight attributable to one respondent for each DevType is reciprocal of DevType count\n",
    "    df['DevTypeWeight'] = df['DevType'].apply(lambda x: 1 / len(x))\n",
    "    \n",
    "    df = (df\n",
    "          .drop('DevTypeString', axis=1)\n",
    "          .explode('DevType'))\n",
    "    return df"
   ]
  },
  {
   "cell_type": "code",
   "execution_count": 6,
   "metadata": {},
   "outputs": [],
   "source": [
    "def ordinalSatisfaction(df):\n",
    "    \"\"\"Replace string-valued 'JobSat' column with a numeric encoding.\n",
    "    \"\"\"\n",
    "    categ_dict = {'Very dissatisfied': 0, 'Slightly dissatisfied': 1, 'Neither satisfied nor dissatisfied': 2,\n",
    "              'Slightly satisfied': 3, 'Very satisfied': 4}\n",
    "    ce_ord = ce.OrdinalEncoder(cols = ['JobSat'], \n",
    "                               mapping= [{'col': 'JobSat', 'mapping': categ_dict}])\n",
    "    return ce_ord.fit_transform(df)"
   ]
  },
  {
   "cell_type": "code",
   "execution_count": 7,
   "metadata": {},
   "outputs": [],
   "source": [
    "def ordinalAndWeightedJobSat(df):\n",
    "    \"\"\"Create weighted JobSat column.\n",
    "    \"\"\"\n",
    "    df = ordinalSatisfaction(df)\n",
    "    df['WeightedJobSat'] = df.JobSat * df.DevTypeWeight\n",
    "    return df"
   ]
  },
  {
   "cell_type": "code",
   "execution_count": 8,
   "metadata": {},
   "outputs": [],
   "source": [
    "def numericWeightedJobSat(df):\n",
    "    \"\"\"\n",
    "    Convert input dataframe with StackOverflow columns 'JobSat' (categorical text)\n",
    "    and 'DevType' (semicolon-delimited string values) to a more useable format for\n",
    "    assessing satisfaction with job roles.\n",
    "    \n",
    "    The row for each respondent is exploded into a row for each role reported by the \n",
    "    respondent, and a 'WeightedJobSat' column that indicates the numeric per-role \n",
    "    weighted job satisfaction.\n",
    "    \n",
    "    Args:\n",
    "        df(DataFrame): dataframe with StackOverflow columns 'JobSat' and 'DevType'\n",
    "    \"\"\"\n",
    "    df = explode_dev_type_with_weighting(df)\n",
    "    return ordinalAndWeightedJobSat(df)"
   ]
  },
  {
   "cell_type": "markdown",
   "metadata": {},
   "source": [
    "### Weighted Satisfaction - All Countries Example\n",
    "An example of using the per-devtype weighted satisfaction code. This illustrates how the code is used, and you can see examples of inputs and outputs. \n",
    "\n",
    "Also, generate some output used in the article (in the final cells of this section.)\n",
    "\n",
    "This example starts with all rows in the Stack Overflow dataset (no selection on country)."
   ]
  },
  {
   "cell_type": "code",
   "execution_count": 21,
   "metadata": {
    "scrolled": true
   },
   "outputs": [
    {
     "name": "stdout",
     "output_type": "stream",
     "text": [
      "44546\n"
     ]
    },
    {
     "data": {
      "text/html": [
       "<div>\n",
       "<style scoped>\n",
       "    .dataframe tbody tr th:only-of-type {\n",
       "        vertical-align: middle;\n",
       "    }\n",
       "\n",
       "    .dataframe tbody tr th {\n",
       "        vertical-align: top;\n",
       "    }\n",
       "\n",
       "    .dataframe thead th {\n",
       "        text-align: right;\n",
       "    }\n",
       "</style>\n",
       "<table border=\"1\" class=\"dataframe\">\n",
       "  <thead>\n",
       "    <tr style=\"text-align: right;\">\n",
       "      <th></th>\n",
       "      <th>DevType</th>\n",
       "      <th>JobSat</th>\n",
       "    </tr>\n",
       "  </thead>\n",
       "  <tbody>\n",
       "    <tr>\n",
       "      <th>0</th>\n",
       "      <td>Developer, desktop or enterprise applications;...</td>\n",
       "      <td>Slightly satisfied</td>\n",
       "    </tr>\n",
       "    <tr>\n",
       "      <th>1</th>\n",
       "      <td>Developer, full-stack;Developer, mobile</td>\n",
       "      <td>Very dissatisfied</td>\n",
       "    </tr>\n",
       "    <tr>\n",
       "      <th>5</th>\n",
       "      <td>Designer;Developer, front-end;Developer, mobile</td>\n",
       "      <td>Slightly satisfied</td>\n",
       "    </tr>\n",
       "    <tr>\n",
       "      <th>6</th>\n",
       "      <td>Developer, back-end;Developer, front-end;Devel...</td>\n",
       "      <td>Very satisfied</td>\n",
       "    </tr>\n",
       "    <tr>\n",
       "      <th>7</th>\n",
       "      <td>Developer, back-end;Developer, desktop or ente...</td>\n",
       "      <td>Slightly dissatisfied</td>\n",
       "    </tr>\n",
       "    <tr>\n",
       "      <th>8</th>\n",
       "      <td>Developer, full-stack</td>\n",
       "      <td>Very dissatisfied</td>\n",
       "    </tr>\n",
       "    <tr>\n",
       "      <th>9</th>\n",
       "      <td>Database administrator;Developer, full-stack;D...</td>\n",
       "      <td>Very satisfied</td>\n",
       "    </tr>\n",
       "    <tr>\n",
       "      <th>10</th>\n",
       "      <td>Developer, back-end;Developer, desktop or ente...</td>\n",
       "      <td>Slightly dissatisfied</td>\n",
       "    </tr>\n",
       "    <tr>\n",
       "      <th>11</th>\n",
       "      <td>Designer;Developer, front-end</td>\n",
       "      <td>Very dissatisfied</td>\n",
       "    </tr>\n",
       "  </tbody>\n",
       "</table>\n",
       "</div>"
      ],
      "text/plain": [
       "                                              DevType                 JobSat\n",
       "0   Developer, desktop or enterprise applications;...     Slightly satisfied\n",
       "1             Developer, full-stack;Developer, mobile      Very dissatisfied\n",
       "5     Designer;Developer, front-end;Developer, mobile     Slightly satisfied\n",
       "6   Developer, back-end;Developer, front-end;Devel...         Very satisfied\n",
       "7   Developer, back-end;Developer, desktop or ente...  Slightly dissatisfied\n",
       "8                               Developer, full-stack      Very dissatisfied\n",
       "9   Database administrator;Developer, full-stack;D...         Very satisfied\n",
       "10  Developer, back-end;Developer, desktop or ente...  Slightly dissatisfied\n",
       "11                      Designer;Developer, front-end      Very dissatisfied"
      ]
     },
     "execution_count": 21,
     "metadata": {},
     "output_type": "execute_result"
    }
   ],
   "source": [
    "# Extract the relevant columns so the dataframe views are readable.\n",
    "# Note: removing null values for JobSat & DevType\n",
    "ac_job_sat = df_2020[['DevType', 'JobSat']].dropna()\n",
    "print(ac_job_sat.shape[0])\n",
    "ac_job_sat.head(9)"
   ]
  },
  {
   "cell_type": "code",
   "execution_count": 22,
   "metadata": {
    "scrolled": false
   },
   "outputs": [
    {
     "data": {
      "text/html": [
       "<div>\n",
       "<style scoped>\n",
       "    .dataframe tbody tr th:only-of-type {\n",
       "        vertical-align: middle;\n",
       "    }\n",
       "\n",
       "    .dataframe tbody tr th {\n",
       "        vertical-align: top;\n",
       "    }\n",
       "\n",
       "    .dataframe thead th {\n",
       "        text-align: right;\n",
       "    }\n",
       "</style>\n",
       "<table border=\"1\" class=\"dataframe\">\n",
       "  <thead>\n",
       "    <tr style=\"text-align: right;\">\n",
       "      <th></th>\n",
       "      <th>JobSat</th>\n",
       "      <th>DevType</th>\n",
       "      <th>DevTypeWeight</th>\n",
       "      <th>WeightedJobSat</th>\n",
       "    </tr>\n",
       "  </thead>\n",
       "  <tbody>\n",
       "    <tr>\n",
       "      <th>0</th>\n",
       "      <td>3</td>\n",
       "      <td>Developer, desktop or enterprise applications</td>\n",
       "      <td>0.500000</td>\n",
       "      <td>1.5</td>\n",
       "    </tr>\n",
       "    <tr>\n",
       "      <th>0</th>\n",
       "      <td>3</td>\n",
       "      <td>Developer, full-stack</td>\n",
       "      <td>0.500000</td>\n",
       "      <td>1.5</td>\n",
       "    </tr>\n",
       "    <tr>\n",
       "      <th>1</th>\n",
       "      <td>0</td>\n",
       "      <td>Developer, full-stack</td>\n",
       "      <td>0.500000</td>\n",
       "      <td>0.0</td>\n",
       "    </tr>\n",
       "    <tr>\n",
       "      <th>1</th>\n",
       "      <td>0</td>\n",
       "      <td>Developer, mobile</td>\n",
       "      <td>0.500000</td>\n",
       "      <td>0.0</td>\n",
       "    </tr>\n",
       "    <tr>\n",
       "      <th>5</th>\n",
       "      <td>3</td>\n",
       "      <td>Designer</td>\n",
       "      <td>0.333333</td>\n",
       "      <td>1.0</td>\n",
       "    </tr>\n",
       "    <tr>\n",
       "      <th>5</th>\n",
       "      <td>3</td>\n",
       "      <td>Developer, front-end</td>\n",
       "      <td>0.333333</td>\n",
       "      <td>1.0</td>\n",
       "    </tr>\n",
       "    <tr>\n",
       "      <th>5</th>\n",
       "      <td>3</td>\n",
       "      <td>Developer, mobile</td>\n",
       "      <td>0.333333</td>\n",
       "      <td>1.0</td>\n",
       "    </tr>\n",
       "    <tr>\n",
       "      <th>6</th>\n",
       "      <td>4</td>\n",
       "      <td>Developer, back-end</td>\n",
       "      <td>0.250000</td>\n",
       "      <td>1.0</td>\n",
       "    </tr>\n",
       "  </tbody>\n",
       "</table>\n",
       "</div>"
      ],
      "text/plain": [
       "   JobSat                                        DevType  DevTypeWeight  \\\n",
       "0       3  Developer, desktop or enterprise applications       0.500000   \n",
       "0       3                          Developer, full-stack       0.500000   \n",
       "1       0                          Developer, full-stack       0.500000   \n",
       "1       0                              Developer, mobile       0.500000   \n",
       "5       3                                       Designer       0.333333   \n",
       "5       3                           Developer, front-end       0.333333   \n",
       "5       3                              Developer, mobile       0.333333   \n",
       "6       4                            Developer, back-end       0.250000   \n",
       "\n",
       "   WeightedJobSat  \n",
       "0             1.5  \n",
       "0             1.5  \n",
       "1             0.0  \n",
       "1             0.0  \n",
       "5             1.0  \n",
       "5             1.0  \n",
       "5             1.0  \n",
       "6             1.0  "
      ]
     },
     "execution_count": 22,
     "metadata": {},
     "output_type": "execute_result"
    }
   ],
   "source": [
    "# Example call to numericWeightedJobSat()\n",
    "ac_job_sat_weighted = numericWeightedJobSat(ac_job_sat)\n",
    "ac_job_sat_weighted.head(8)"
   ]
  },
  {
   "cell_type": "code",
   "execution_count": 23,
   "metadata": {
    "scrolled": true
   },
   "outputs": [
    {
     "data": {
      "text/html": [
       "<div>\n",
       "<style scoped>\n",
       "    .dataframe tbody tr th:only-of-type {\n",
       "        vertical-align: middle;\n",
       "    }\n",
       "\n",
       "    .dataframe tbody tr th {\n",
       "        vertical-align: top;\n",
       "    }\n",
       "\n",
       "    .dataframe thead th {\n",
       "        text-align: right;\n",
       "    }\n",
       "</style>\n",
       "<table border=\"1\" class=\"dataframe\">\n",
       "  <thead>\n",
       "    <tr style=\"text-align: right;\">\n",
       "      <th></th>\n",
       "      <th>DevTypeWeight</th>\n",
       "      <th>WeightedJobSat</th>\n",
       "    </tr>\n",
       "    <tr>\n",
       "      <th>DevType</th>\n",
       "      <th></th>\n",
       "      <th></th>\n",
       "    </tr>\n",
       "  </thead>\n",
       "  <tbody>\n",
       "    <tr>\n",
       "      <th>Academic researcher</th>\n",
       "      <td>888.051196</td>\n",
       "      <td>2395.736629</td>\n",
       "    </tr>\n",
       "    <tr>\n",
       "      <th>Data or business analyst</th>\n",
       "      <td>1000.201960</td>\n",
       "      <td>2611.162929</td>\n",
       "    </tr>\n",
       "    <tr>\n",
       "      <th>Data scientist or machine learning specialist</th>\n",
       "      <td>1183.563455</td>\n",
       "      <td>3261.721378</td>\n",
       "    </tr>\n",
       "    <tr>\n",
       "      <th>Database administrator</th>\n",
       "      <td>1028.361029</td>\n",
       "      <td>2706.116779</td>\n",
       "    </tr>\n",
       "    <tr>\n",
       "      <th>Designer</th>\n",
       "      <td>1016.412390</td>\n",
       "      <td>2648.723427</td>\n",
       "    </tr>\n",
       "    <tr>\n",
       "      <th>DevOps specialist</th>\n",
       "      <td>1451.549018</td>\n",
       "      <td>3925.555635</td>\n",
       "    </tr>\n",
       "    <tr>\n",
       "      <th>Developer, QA or test</th>\n",
       "      <td>957.209332</td>\n",
       "      <td>2499.289023</td>\n",
       "    </tr>\n",
       "    <tr>\n",
       "      <th>Developer, back-end</th>\n",
       "      <td>9028.261843</td>\n",
       "      <td>23463.127283</td>\n",
       "    </tr>\n",
       "    <tr>\n",
       "      <th>Developer, desktop or enterprise applications</th>\n",
       "      <td>3108.136598</td>\n",
       "      <td>8103.184842</td>\n",
       "    </tr>\n",
       "    <tr>\n",
       "      <th>Developer, embedded applications or devices</th>\n",
       "      <td>1299.664709</td>\n",
       "      <td>3420.647245</td>\n",
       "    </tr>\n",
       "    <tr>\n",
       "      <th>Developer, front-end</th>\n",
       "      <td>5109.069688</td>\n",
       "      <td>13432.930273</td>\n",
       "    </tr>\n",
       "    <tr>\n",
       "      <th>Developer, full-stack</th>\n",
       "      <td>9970.806005</td>\n",
       "      <td>26191.944007</td>\n",
       "    </tr>\n",
       "    <tr>\n",
       "      <th>Developer, game or graphics</th>\n",
       "      <td>585.536247</td>\n",
       "      <td>1575.844119</td>\n",
       "    </tr>\n",
       "    <tr>\n",
       "      <th>Developer, mobile</th>\n",
       "      <td>2947.843562</td>\n",
       "      <td>7631.334956</td>\n",
       "    </tr>\n",
       "    <tr>\n",
       "      <th>Educator</th>\n",
       "      <td>577.911074</td>\n",
       "      <td>1557.028516</td>\n",
       "    </tr>\n",
       "    <tr>\n",
       "      <th>Engineer, data</th>\n",
       "      <td>951.462239</td>\n",
       "      <td>2551.372591</td>\n",
       "    </tr>\n",
       "    <tr>\n",
       "      <th>Engineer, site reliability</th>\n",
       "      <td>419.609538</td>\n",
       "      <td>1116.880679</td>\n",
       "    </tr>\n",
       "    <tr>\n",
       "      <th>Engineering manager</th>\n",
       "      <td>665.399622</td>\n",
       "      <td>1794.209980</td>\n",
       "    </tr>\n",
       "    <tr>\n",
       "      <th>Marketing or sales professional</th>\n",
       "      <td>102.553169</td>\n",
       "      <td>267.702703</td>\n",
       "    </tr>\n",
       "    <tr>\n",
       "      <th>Product manager</th>\n",
       "      <td>450.664161</td>\n",
       "      <td>1190.773279</td>\n",
       "    </tr>\n",
       "    <tr>\n",
       "      <th>Scientist</th>\n",
       "      <td>495.598517</td>\n",
       "      <td>1394.190525</td>\n",
       "    </tr>\n",
       "    <tr>\n",
       "      <th>Senior executive/VP</th>\n",
       "      <td>278.205106</td>\n",
       "      <td>818.273127</td>\n",
       "    </tr>\n",
       "    <tr>\n",
       "      <th>System administrator</th>\n",
       "      <td>1029.929543</td>\n",
       "      <td>2701.250075</td>\n",
       "    </tr>\n",
       "  </tbody>\n",
       "</table>\n",
       "</div>"
      ],
      "text/plain": [
       "                                               DevTypeWeight  WeightedJobSat\n",
       "DevType                                                                     \n",
       "Academic researcher                               888.051196     2395.736629\n",
       "Data or business analyst                         1000.201960     2611.162929\n",
       "Data scientist or machine learning specialist    1183.563455     3261.721378\n",
       "Database administrator                           1028.361029     2706.116779\n",
       "Designer                                         1016.412390     2648.723427\n",
       "DevOps specialist                                1451.549018     3925.555635\n",
       "Developer, QA or test                             957.209332     2499.289023\n",
       "Developer, back-end                              9028.261843    23463.127283\n",
       "Developer, desktop or enterprise applications    3108.136598     8103.184842\n",
       "Developer, embedded applications or devices      1299.664709     3420.647245\n",
       "Developer, front-end                             5109.069688    13432.930273\n",
       "Developer, full-stack                            9970.806005    26191.944007\n",
       "Developer, game or graphics                       585.536247     1575.844119\n",
       "Developer, mobile                                2947.843562     7631.334956\n",
       "Educator                                          577.911074     1557.028516\n",
       "Engineer, data                                    951.462239     2551.372591\n",
       "Engineer, site reliability                        419.609538     1116.880679\n",
       "Engineering manager                               665.399622     1794.209980\n",
       "Marketing or sales professional                   102.553169      267.702703\n",
       "Product manager                                   450.664161     1190.773279\n",
       "Scientist                                         495.598517     1394.190525\n",
       "Senior executive/VP                               278.205106      818.273127\n",
       "System administrator                             1029.929543     2701.250075"
      ]
     },
     "execution_count": 23,
     "metadata": {},
     "output_type": "execute_result"
    }
   ],
   "source": [
    "# Step one in computing mean JobSat by DevType\n",
    "ac_grouped_sum = ac_job_sat_weighted[['DevType', 'DevTypeWeight', 'WeightedJobSat']].groupby('DevType').sum()\n",
    "ac_grouped_sum"
   ]
  },
  {
   "cell_type": "code",
   "execution_count": 12,
   "metadata": {},
   "outputs": [],
   "source": [
    "# Step two in computing mean JobSat by DevType\n",
    "ac_mean_js = pd.DataFrame(data=ac_grouped_sum.WeightedJobSat/ac_grouped_sum.DevTypeWeight, index=ac_grouped_sum.index, columns=['MeanJobSat'])\n",
    "ac_mean_js = ac_mean_js.sort_values('MeanJobSat', ascending=False)"
   ]
  },
  {
   "cell_type": "code",
   "execution_count": 13,
   "metadata": {
    "scrolled": true
   },
   "outputs": [
    {
     "data": {
      "text/html": [
       "<div>\n",
       "<style scoped>\n",
       "    .dataframe tbody tr th:only-of-type {\n",
       "        vertical-align: middle;\n",
       "    }\n",
       "\n",
       "    .dataframe tbody tr th {\n",
       "        vertical-align: top;\n",
       "    }\n",
       "\n",
       "    .dataframe thead th {\n",
       "        text-align: right;\n",
       "    }\n",
       "</style>\n",
       "<table border=\"1\" class=\"dataframe\">\n",
       "  <thead>\n",
       "    <tr style=\"text-align: right;\">\n",
       "      <th></th>\n",
       "      <th>MeanJobSat</th>\n",
       "    </tr>\n",
       "    <tr>\n",
       "      <th>DevType</th>\n",
       "      <th></th>\n",
       "    </tr>\n",
       "  </thead>\n",
       "  <tbody>\n",
       "    <tr>\n",
       "      <th>Senior executive/VP</th>\n",
       "      <td>2.941258</td>\n",
       "    </tr>\n",
       "    <tr>\n",
       "      <th>Scientist</th>\n",
       "      <td>2.813145</td>\n",
       "    </tr>\n",
       "    <tr>\n",
       "      <th>Data scientist or machine learning specialist</th>\n",
       "      <td>2.755848</td>\n",
       "    </tr>\n",
       "    <tr>\n",
       "      <th>DevOps specialist</th>\n",
       "      <td>2.704391</td>\n",
       "    </tr>\n",
       "    <tr>\n",
       "      <th>Academic researcher</th>\n",
       "      <td>2.697746</td>\n",
       "    </tr>\n",
       "    <tr>\n",
       "      <th>Engineering manager</th>\n",
       "      <td>2.696440</td>\n",
       "    </tr>\n",
       "    <tr>\n",
       "      <th>Educator</th>\n",
       "      <td>2.694235</td>\n",
       "    </tr>\n",
       "    <tr>\n",
       "      <th>Developer, game or graphics</th>\n",
       "      <td>2.691284</td>\n",
       "    </tr>\n",
       "    <tr>\n",
       "      <th>Engineer, data</th>\n",
       "      <td>2.681528</td>\n",
       "    </tr>\n",
       "    <tr>\n",
       "      <th>Engineer, site reliability</th>\n",
       "      <td>2.661714</td>\n",
       "    </tr>\n",
       "    <tr>\n",
       "      <th>Product manager</th>\n",
       "      <td>2.642263</td>\n",
       "    </tr>\n",
       "    <tr>\n",
       "      <th>Developer, embedded applications or devices</th>\n",
       "      <td>2.631946</td>\n",
       "    </tr>\n",
       "    <tr>\n",
       "      <th>Database administrator</th>\n",
       "      <td>2.631485</td>\n",
       "    </tr>\n",
       "    <tr>\n",
       "      <th>Developer, front-end</th>\n",
       "      <td>2.629232</td>\n",
       "    </tr>\n",
       "    <tr>\n",
       "      <th>Developer, full-stack</th>\n",
       "      <td>2.626863</td>\n",
       "    </tr>\n",
       "    <tr>\n",
       "      <th>System administrator</th>\n",
       "      <td>2.622752</td>\n",
       "    </tr>\n",
       "    <tr>\n",
       "      <th>Developer, QA or test</th>\n",
       "      <td>2.611016</td>\n",
       "    </tr>\n",
       "    <tr>\n",
       "      <th>Data or business analyst</th>\n",
       "      <td>2.610636</td>\n",
       "    </tr>\n",
       "    <tr>\n",
       "      <th>Marketing or sales professional</th>\n",
       "      <td>2.610380</td>\n",
       "    </tr>\n",
       "    <tr>\n",
       "      <th>Developer, desktop or enterprise applications</th>\n",
       "      <td>2.607088</td>\n",
       "    </tr>\n",
       "    <tr>\n",
       "      <th>Designer</th>\n",
       "      <td>2.605954</td>\n",
       "    </tr>\n",
       "    <tr>\n",
       "      <th>Developer, back-end</th>\n",
       "      <td>2.598853</td>\n",
       "    </tr>\n",
       "    <tr>\n",
       "      <th>Developer, mobile</th>\n",
       "      <td>2.588786</td>\n",
       "    </tr>\n",
       "  </tbody>\n",
       "</table>\n",
       "</div>"
      ],
      "text/plain": [
       "                                               MeanJobSat\n",
       "DevType                                                  \n",
       "Senior executive/VP                              2.941258\n",
       "Scientist                                        2.813145\n",
       "Data scientist or machine learning specialist    2.755848\n",
       "DevOps specialist                                2.704391\n",
       "Academic researcher                              2.697746\n",
       "Engineering manager                              2.696440\n",
       "Educator                                         2.694235\n",
       "Developer, game or graphics                      2.691284\n",
       "Engineer, data                                   2.681528\n",
       "Engineer, site reliability                       2.661714\n",
       "Product manager                                  2.642263\n",
       "Developer, embedded applications or devices      2.631946\n",
       "Database administrator                           2.631485\n",
       "Developer, front-end                             2.629232\n",
       "Developer, full-stack                            2.626863\n",
       "System administrator                             2.622752\n",
       "Developer, QA or test                            2.611016\n",
       "Data or business analyst                         2.610636\n",
       "Marketing or sales professional                  2.610380\n",
       "Developer, desktop or enterprise applications    2.607088\n",
       "Designer                                         2.605954\n",
       "Developer, back-end                              2.598853\n",
       "Developer, mobile                                2.588786"
      ]
     },
     "execution_count": 13,
     "metadata": {},
     "output_type": "execute_result"
    }
   ],
   "source": [
    "ac_mean_js"
   ]
  },
  {
   "cell_type": "code",
   "execution_count": 74,
   "metadata": {},
   "outputs": [],
   "source": [
    "# Shorter names for display\n",
    "DISPLAY_NAMES = {'Developer, desktop or enterprise applications':'Developer, desktop/enterprise',\n",
    "                     'Data scientist or machine learning specialist': 'Data science / ML',\n",
    "                     'Developer, embedded applications or devices': 'Developer, embedded'}\n",
    "\n",
    "ac_mean_js.index = [DISPLAY_NAMES.get(name, name) for name in ac_mean_js.index]"
   ]
  },
  {
   "cell_type": "code",
   "execution_count": 96,
   "metadata": {},
   "outputs": [],
   "source": [
    "# Drop roles we will not consider\n",
    "ac_mean_js2 = ac_mean_js.drop(['Senior executive/VP', 'Marketing or sales professional'])"
   ]
  },
  {
   "cell_type": "code",
   "execution_count": 97,
   "metadata": {
    "scrolled": true
   },
   "outputs": [
    {
     "data": {
      "image/png": "[encoded data removed]",
      "text/plain": [
       "<Figure size 720x432 with 1 Axes>"
      ]
     },
     "metadata": {
      "needs_background": "light"
     },
     "output_type": "display_data"
    }
   ],
   "source": [
    "ac_mean_js2.plot.bar(figsize=(10,6), ylim=(1,4));"
   ]
  },
  {
   "cell_type": "markdown",
   "metadata": {},
   "source": [
    "The next two cells are used to generate a figure for the article."
   ]
  },
  {
   "cell_type": "code",
   "execution_count": 99,
   "metadata": {
    "scrolled": true
   },
   "outputs": [
    {
     "data": {
      "text/html": [
       "<div>\n",
       "<style scoped>\n",
       "    .dataframe tbody tr th:only-of-type {\n",
       "        vertical-align: middle;\n",
       "    }\n",
       "\n",
       "    .dataframe tbody tr th {\n",
       "        vertical-align: top;\n",
       "    }\n",
       "\n",
       "    .dataframe thead th {\n",
       "        text-align: right;\n",
       "    }\n",
       "</style>\n",
       "<table border=\"1\" class=\"dataframe\">\n",
       "  <thead>\n",
       "    <tr style=\"text-align: right;\">\n",
       "      <th></th>\n",
       "      <th>MeanJobSat</th>\n",
       "    </tr>\n",
       "  </thead>\n",
       "  <tbody>\n",
       "    <tr>\n",
       "      <th>Scientist</th>\n",
       "      <td>2.813145</td>\n",
       "    </tr>\n",
       "    <tr>\n",
       "      <th>Data science / ML</th>\n",
       "      <td>2.755848</td>\n",
       "    </tr>\n",
       "    <tr>\n",
       "      <th>DevOps specialist</th>\n",
       "      <td>2.704391</td>\n",
       "    </tr>\n",
       "    <tr>\n",
       "      <th>Academic researcher</th>\n",
       "      <td>2.697746</td>\n",
       "    </tr>\n",
       "    <tr>\n",
       "      <th>Engineering manager</th>\n",
       "      <td>2.696440</td>\n",
       "    </tr>\n",
       "    <tr>\n",
       "      <th>Educator</th>\n",
       "      <td>2.694235</td>\n",
       "    </tr>\n",
       "    <tr>\n",
       "      <th>Developer, game or graphics</th>\n",
       "      <td>2.691284</td>\n",
       "    </tr>\n",
       "    <tr>\n",
       "      <th>Engineer, data</th>\n",
       "      <td>2.681528</td>\n",
       "    </tr>\n",
       "    <tr>\n",
       "      <th>Engineer, site reliability</th>\n",
       "      <td>2.661714</td>\n",
       "    </tr>\n",
       "    <tr>\n",
       "      <th>Product manager</th>\n",
       "      <td>2.642263</td>\n",
       "    </tr>\n",
       "    <tr>\n",
       "      <th>Developer, embedded</th>\n",
       "      <td>2.631946</td>\n",
       "    </tr>\n",
       "  </tbody>\n",
       "</table>\n",
       "</div>"
      ],
      "text/plain": [
       "                             MeanJobSat\n",
       "Scientist                      2.813145\n",
       "Data science / ML              2.755848\n",
       "DevOps specialist              2.704391\n",
       "Academic researcher            2.697746\n",
       "Engineering manager            2.696440\n",
       "Educator                       2.694235\n",
       "Developer, game or graphics    2.691284\n",
       "Engineer, data                 2.681528\n",
       "Engineer, site reliability     2.661714\n",
       "Product manager                2.642263\n",
       "Developer, embedded            2.631946"
      ]
     },
     "execution_count": 99,
     "metadata": {},
     "output_type": "execute_result"
    }
   ],
   "source": [
    "ac_mean_js2.head(11)"
   ]
  },
  {
   "cell_type": "code",
   "execution_count": 100,
   "metadata": {
    "scrolled": true
   },
   "outputs": [
    {
     "data": {
      "text/html": [
       "<div>\n",
       "<style scoped>\n",
       "    .dataframe tbody tr th:only-of-type {\n",
       "        vertical-align: middle;\n",
       "    }\n",
       "\n",
       "    .dataframe tbody tr th {\n",
       "        vertical-align: top;\n",
       "    }\n",
       "\n",
       "    .dataframe thead th {\n",
       "        text-align: right;\n",
       "    }\n",
       "</style>\n",
       "<table border=\"1\" class=\"dataframe\">\n",
       "  <thead>\n",
       "    <tr style=\"text-align: right;\">\n",
       "      <th></th>\n",
       "      <th>MeanJobSat</th>\n",
       "    </tr>\n",
       "  </thead>\n",
       "  <tbody>\n",
       "    <tr>\n",
       "      <th>Database administrator</th>\n",
       "      <td>2.631485</td>\n",
       "    </tr>\n",
       "    <tr>\n",
       "      <th>Developer, front-end</th>\n",
       "      <td>2.629232</td>\n",
       "    </tr>\n",
       "    <tr>\n",
       "      <th>Developer, full-stack</th>\n",
       "      <td>2.626863</td>\n",
       "    </tr>\n",
       "    <tr>\n",
       "      <th>System administrator</th>\n",
       "      <td>2.622752</td>\n",
       "    </tr>\n",
       "    <tr>\n",
       "      <th>Developer, QA or test</th>\n",
       "      <td>2.611016</td>\n",
       "    </tr>\n",
       "    <tr>\n",
       "      <th>Data or business analyst</th>\n",
       "      <td>2.610636</td>\n",
       "    </tr>\n",
       "    <tr>\n",
       "      <th>Developer, desktop/enterprise</th>\n",
       "      <td>2.607088</td>\n",
       "    </tr>\n",
       "    <tr>\n",
       "      <th>Designer</th>\n",
       "      <td>2.605954</td>\n",
       "    </tr>\n",
       "    <tr>\n",
       "      <th>Developer, back-end</th>\n",
       "      <td>2.598853</td>\n",
       "    </tr>\n",
       "    <tr>\n",
       "      <th>Developer, mobile</th>\n",
       "      <td>2.588786</td>\n",
       "    </tr>\n",
       "  </tbody>\n",
       "</table>\n",
       "</div>"
      ],
      "text/plain": [
       "                               MeanJobSat\n",
       "Database administrator           2.631485\n",
       "Developer, front-end             2.629232\n",
       "Developer, full-stack            2.626863\n",
       "System administrator             2.622752\n",
       "Developer, QA or test            2.611016\n",
       "Data or business analyst         2.610636\n",
       "Developer, desktop/enterprise    2.607088\n",
       "Designer                         2.605954\n",
       "Developer, back-end              2.598853\n",
       "Developer, mobile                2.588786"
      ]
     },
     "execution_count": 100,
     "metadata": {},
     "output_type": "execute_result"
    }
   ],
   "source": [
    "ac_mean_js2.tail(10)"
   ]
  },
  {
   "cell_type": "markdown",
   "metadata": {},
   "source": [
    "**Mean Satisfaction Score**\n",
    "\n",
    "Compute the mean JobSat score across all respondents we are considering (those with defined values for 'DevType' and 'JobSat'.)\n",
    "\n",
    "We use this mean value and the difference between it and min/max weighted score by dev type in the article."
   ]
  },
  {
   "cell_type": "code",
   "execution_count": 102,
   "metadata": {},
   "outputs": [
    {
     "data": {
      "text/plain": [
       "2.6323126655591973"
      ]
     },
     "execution_count": 102,
     "metadata": {},
     "output_type": "execute_result"
    }
   ],
   "source": [
    "# Convert JobSat response to numeric value 0 - 4\n",
    "ord_job_sat = ordinalSatisfaction(ac_job_sat)\n",
    "# Compute mean\n",
    "ord_job_sat.JobSat.mean()"
   ]
  },
  {
   "cell_type": "code",
   "execution_count": 103,
   "metadata": {},
   "outputs": [
    {
     "data": {
      "text/plain": [
       "0.04300000000000015"
      ]
     },
     "execution_count": 103,
     "metadata": {},
     "output_type": "execute_result"
    }
   ],
   "source": [
    "# difference betwen overall mean and min score by dev type\n",
    "2.632 - 2.589"
   ]
  },
  {
   "cell_type": "code",
   "execution_count": 2,
   "metadata": {},
   "outputs": [
    {
     "data": {
      "text/plain": [
       "0.18109999999999982"
      ]
     },
     "execution_count": 2,
     "metadata": {},
     "output_type": "execute_result"
    }
   ],
   "source": [
    "# difference betwen overall mean and max score by dev type\n",
    "2.8131 - 2.632"
   ]
  },
  {
   "cell_type": "markdown",
   "metadata": {},
   "source": [
    "## Pairwise devType Mean Difference p-Values\n",
    "\n",
    "Compute job satisfaction mean difference and p_val for pairs of dev types."
   ]
  },
  {
   "cell_type": "code",
   "execution_count": 74,
   "metadata": {},
   "outputs": [],
   "source": [
    "# Shorter names for display\n",
    "DISPLAY_NAMES = {'Developer, desktop or enterprise applications':'Developer, desktop/enterprise',\n",
    "                     'Data scientist or machine learning specialist': 'Data science / ML',\n",
    "                     'Developer, embedded applications or devices': 'Developer, embedded'}"
   ]
  },
  {
   "cell_type": "code",
   "execution_count": 18,
   "metadata": {},
   "outputs": [],
   "source": [
    "def pairwiseJobSatDiffAndPval(df1, df2, bootstrap_n = 1000):\n",
    "    \"\"\"Compute job satisfaction mean difference and p_val for a pair of dev types.\n",
    "    \n",
    "    Args:\n",
    "        df1 (DataFrame): DataFrame with columns 'DevTypeWeight', 'WeightedJobSat' for \n",
    "                         first dev type.\n",
    "        df2 (DataFrame): DataFrame with columns 'DevTypeWeight', 'WeightedJobSat' for \n",
    "                         first dev type.\n",
    "    \n",
    "    Returns: A tuple containing (1) JobSat mean difference (2) p-value for the mean \n",
    "             difference.\n",
    "    \"\"\"\n",
    "    src_sample1 = df1[['DevTypeWeight', 'WeightedJobSat']]\n",
    "    src_sample2 = df2[['DevTypeWeight', 'WeightedJobSat']]\n",
    "    \n",
    "    src_mean_1 = src_sample1.WeightedJobSat.sum() / src_sample1.DevTypeWeight.sum()\n",
    "    src_mean_2 = src_sample2.WeightedJobSat.sum() / src_sample2.DevTypeWeight.sum()\n",
    "    \n",
    "    # -1 indicates mean_2 >= mean_1\n",
    "    diff_sign = 1 if src_mean_1 > src_mean_2 else -1\n",
    "    \n",
    "    mean_diffs = []\n",
    "    \n",
    "    for _ in range(bootstrap_n):\n",
    "        sample = src_sample1.sample(n=src_sample1.shape[0], replace=True)\n",
    "        mean_1 = sample.WeightedJobSat.sum() / sample.DevTypeWeight.sum()\n",
    "        \n",
    "        sample = src_sample2.sample(n=src_sample2.shape[0], replace=True)\n",
    "        mean_2 = sample.WeightedJobSat.sum() / sample.DevTypeWeight.sum()\n",
    "        \n",
    "        # diff_sign to ensure mean of diff distribution is always positive\n",
    "        # (mean of bootstrap sample diffs will be super-close to source sample mean diff)\n",
    "        mean_diffs.append(diff_sign*(mean_1 - mean_2))\n",
    "        \n",
    "    mean_diffs.sort()\n",
    "    ix_first_positive = next(ix for ix, x in enumerate(mean_diffs) if x > 0)\n",
    "    p_val = float(ix_first_positive) / bootstrap_n\n",
    "    \n",
    "    return (src_mean_1 - src_mean_2), p_val"
   ]
  },
  {
   "cell_type": "code",
   "execution_count": 19,
   "metadata": {},
   "outputs": [],
   "source": [
    "class PairwiseJobSatMx:\n",
    "    \"\"\"A matrix of per-devtype job satisfaction pairwise mean differences and p-values.\n",
    "    \n",
    "    Wrap mean difference and p-val matrices for easy access.\n",
    "    \"\"\"\n",
    "    def __init__(self, mean_diff, p_vals, devTypeList, devtype_means):\n",
    "        \"\"\"\n",
    "        Args:\n",
    "            mean_diff: NxN array of mean differences for pairs of N devtypes\n",
    "            p_vals: NxN array of p-values for pairs of N devtypes\n",
    "            devTypeList: N devType names, with indices corresponding to array indices of preceding\n",
    "            devtype_means: N devtype (JobSat) means, devtype indexing again applies\n",
    "        \"\"\"\n",
    "        self.mean_diff = mean_diff\n",
    "        self.p_vals = p_vals\n",
    "        self.devTypeList = devTypeList\n",
    "        self.devTypeDict = {devTypeList[ix]: ix for ix in range(len(devTypeList))}\n",
    "        self.devtype_means = devtype_means\n",
    "        \n",
    "    def get(self, type1, type2):\n",
    "        \"\"\"\n",
    "        Return mean difference and p value for job Satisfaction between dev type `type1` and `type2`\n",
    "        \n",
    "        Arguments:\n",
    "            type1, type2: Either both are strings (names of dev types) or in-range dev type indices.\n",
    "        \"\"\"\n",
    "        if isinstance(type1, str):\n",
    "            ix = self.devTypeDict[type1]\n",
    "            jx = self.devTypeDict[type2]\n",
    "            \n",
    "        else:\n",
    "            assert isinstance(type1, int) and isinstance(type2, int)\n",
    "            ix = type1\n",
    "            jx = type2\n",
    "            \n",
    "        return (self.mean_diff[ix, jx]), self.p_vals[ix ,jx]"
   ]
  },
  {
   "cell_type": "code",
   "execution_count": 20,
   "metadata": {},
   "outputs": [],
   "source": [
    "def all_pairwiseJobSatDiffAndPval(df, devTypeList=None, bootstrap_n = 2000):\n",
    "    \"\"\"\n",
    "    Job satisfaction mean difference and p_val for all pairs of dev types.\n",
    "    \n",
    "    Arguments:\n",
    "        df: DataFrame with columns 'DevType', 'WeightedJobSat', 'DevTypeWeight'\n",
    "        \n",
    "        devTypeList: list of devTypes to do pairwise comparison between. If None,\n",
    "        use the unique values of the DevType column of `df`.\n",
    "        \n",
    "        bootstrap_n: Number of bootstrap samples to use for p_value estimate of \n",
    "        sample mean diff between pairs of dev types.\n",
    "    \"\"\"\n",
    "    if not devTypeList:\n",
    "        devTypeList = list(df.DevType.unique())\n",
    "    nDevTypes = len(devTypeList)\n",
    "    \n",
    "    # Store the off-diagonal matrix of mean diffs and p_vals in these\n",
    "    mean_diffs = np.zeros((nDevTypes, nDevTypes), float)\n",
    "    pvals = np.zeros((nDevTypes, nDevTypes), float)\n",
    "    \n",
    "    # Create matrices of pairwise mean diffs and p_vals. \n",
    "    for ix in range(nDevTypes):\n",
    "        for jx in range(0, ix):\n",
    "            dev_type_1 = devTypeList[ix]\n",
    "            dev_type_2 = devTypeList[jx]\n",
    "            \n",
    "            df1 = df[df.DevType == dev_type_1]\n",
    "            df2 = df[df.DevType == dev_type_2]\n",
    "            \n",
    "            meanDiff, p_val = pairwiseJobSatDiffAndPval(df1, df2, bootstrap_n)\n",
    "            # diff[i, j] = - diff[j, i]\n",
    "            mean_diffs[ix, jx] = meanDiff\n",
    "            mean_diffs[jx, ix] = -meanDiff\n",
    "            # p-values between two types are symmetric\n",
    "            pvals[ix, jx] = p_val\n",
    "            pvals[jx, ix] = p_val\n",
    "            \n",
    "    # Create a list of mean scores for each devtype\n",
    "    # TODO: test this\n",
    "    devtype_means = []\n",
    "    for devtype in devTypeList:\n",
    "        df3 = df[df.DevType == devtype]\n",
    "        devtype_means.append(df3.WeightedJobSat.sum() / df3.DevTypeWeight.sum())\n",
    "            \n",
    "    return PairwiseJobSatMx(mean_diffs, pvals, devTypeList, devtype_means)"
   ]
  },
  {
   "cell_type": "markdown",
   "metadata": {},
   "source": [
    "### JobSat Mean and PValues Examples\n",
    "An example of using the pairwise mean difference + p-value code. This illustrates how the code is used, and you can see examples of inputs and outputs."
   ]
  },
  {
   "cell_type": "markdown",
   "metadata": {},
   "source": [
    "**Compute for a few dev types**"
   ]
  },
  {
   "cell_type": "code",
   "execution_count": 24,
   "metadata": {},
   "outputs": [],
   "source": [
    "mx1 = all_pairwiseJobSatDiffAndPval(ac_job_sat_weighted, ['Developer, full-stack', 'Scientist', 'Developer, back-end'])"
   ]
  },
  {
   "cell_type": "code",
   "execution_count": 25,
   "metadata": {},
   "outputs": [
    {
     "data": {
      "text/plain": [
       "array([[ 0.        , -0.18628181,  0.02801005],\n",
       "       [ 0.18628181,  0.        ,  0.21429186],\n",
       "       [-0.02801005, -0.21429186,  0.        ]])"
      ]
     },
     "execution_count": 25,
     "metadata": {},
     "output_type": "execute_result"
    }
   ],
   "source": [
    "mx1.mean_diff"
   ]
  },
  {
   "cell_type": "code",
   "execution_count": 26,
   "metadata": {
    "scrolled": false
   },
   "outputs": [
    {
     "data": {
      "text/plain": [
       "array([[0.   , 0.   , 0.028],\n",
       "       [0.   , 0.   , 0.   ],\n",
       "       [0.028, 0.   , 0.   ]])"
      ]
     },
     "execution_count": 26,
     "metadata": {},
     "output_type": "execute_result"
    }
   ],
   "source": [
    "mx1.p_vals"
   ]
  },
  {
   "cell_type": "code",
   "execution_count": 27,
   "metadata": {},
   "outputs": [
    {
     "data": {
      "text/plain": [
       "(0.21429186112886933, 0.0)"
      ]
     },
     "execution_count": 27,
     "metadata": {},
     "output_type": "execute_result"
    }
   ],
   "source": [
    "mx1.get('Scientist', 'Developer, back-end')"
   ]
  },
  {
   "cell_type": "code",
   "execution_count": 28,
   "metadata": {
    "scrolled": true
   },
   "outputs": [
    {
     "data": {
      "text/plain": [
       "(-0.21429186112886933, 0.0)"
      ]
     },
     "execution_count": 28,
     "metadata": {},
     "output_type": "execute_result"
    }
   ],
   "source": [
    "mx1.get('Developer, back-end', 'Scientist')"
   ]
  },
  {
   "cell_type": "markdown",
   "metadata": {},
   "source": [
    "## DevType Cluster Directed Graph\n",
    "Using the matrix of paired comparisons between devType JobSat scores, create clusters of devTypes that are equivalent with respect to the set of devTypes that they are significantly different from (at specified p-value). Also create the set of directed edges between clusters where an edge from cluster_1 to cluster_2 indicates that the devTypes of cluster_1 are superior to all those of cluster_2 with the specified level of significance.\n",
    "\n"
   ]
  },
  {
   "cell_type": "code",
   "execution_count": 29,
   "metadata": {},
   "outputs": [],
   "source": [
    "from collections import defaultdict\n",
    "from typing import NamedTuple\n",
    "from dataclasses import dataclass\n",
    "from typing import List\n",
    "\n",
    "class DevType(NamedTuple):\n",
    "    id: int\n",
    "    name: str\n",
    "    score: float\n",
    "        \n",
    "class Cluster(NamedTuple):\n",
    "    id: int\n",
    "    devtypes: List[DevType]\n",
    "        \n",
    "\n",
    "class ClusterGraph:\n",
    "    \n",
    "    def __init__(self, scoreMx, p_val_thresh=0.05):\n",
    "        \"\"\"\n",
    "        Arguments: \n",
    "            scoreMx (PairwiseJobSatMx): source data for cluster graph\n",
    "            p_val_thresh (float): P-value threshold to use in determining significance\n",
    "        \"\"\"\n",
    "        self.devTypeList = scoreMx.devTypeList\n",
    "        self.clusters, self.edges = self.get_clusters(scoreMx, p_val_thresh)\n",
    "    \n",
    "    def get_clusters(self, scoreMx, p_val_thresh):\n",
    "        \"\"\"\n",
    "        Return a list of (score, cluster) pairs. Each cluster is a list of devtype indices which each\n",
    "        have the same set of incoming/outgoing edges.  The score is the median mean JobSat for the \n",
    "        devtypes in the cluster.\n",
    "        \"\"\"\n",
    "        # Local aliases for scoreMx attributes\n",
    "        (mean_diff, p_vals, devTypeList, devtype_means) = \\\n",
    "        tuple([getattr(scoreMx, attr) for attr in ['mean_diff','p_vals','devTypeList','devtype_means']])\n",
    "                         \n",
    "        devTypeCount = len(devTypeList)\n",
    "        \n",
    "        # list of devTypes less than the dev type at index i, j in range(devTypeCount)\n",
    "        devTypeLt = [[] for x in devTypeList]\n",
    "        devTypeGt = [[] for x in devTypeList]\n",
    "        \n",
    "        # Populate devTypeLT and devTypeGt\n",
    "        for ix in range(devTypeCount):\n",
    "            for jx in range(0, ix):\n",
    "                if p_vals[ix, jx] <= p_val_thresh:\n",
    "                    # significant difference in this pairing, so record gt/lt for each side\n",
    "                    gt_ix, lt_ix = (ix, jx) if mean_diff[ix, jx] > 0 else (jx, ix)\n",
    "                    devTypeLt[lt_ix].append(gt_ix)\n",
    "                    devTypeGt[gt_ix].append(lt_ix)\n",
    "                    \n",
    "        # uniquify the lists of devTypeLT and devTypeGt, and make them tuples so they are suitable\n",
    "        # as dict keys\n",
    "        devTypeLt = [tuple(set(x)) for x in devTypeLt]\n",
    "        devTypeGt = [tuple(set(x)) for x in devTypeGt]\n",
    "        \n",
    "        # clusters of devtype indices are devtypes with identical LT, GT lists\n",
    "        cluster_dict = defaultdict(list)\n",
    "        for devtype_ix, lt_gt in enumerate(zip(devTypeLt, devTypeGt)):\n",
    "            cluster_dict[lt_gt].append(devtype_ix)\n",
    "        \n",
    "        # Assign cluster IDs, and create dict from devtype_id to cluster_id:\n",
    "        clusterMap = {}\n",
    "        for clusterId, devtypeList in enumerate(cluster_dict.values()):\n",
    "            for dt in devtypeList:\n",
    "                clusterMap[dt] = clusterId\n",
    "        \n",
    "        # create a list of cluster edges (from_cluster_id, to_cluster_id), indicating `from` > `to`\n",
    "        cluster_edges = []\n",
    "        for (lt_tpl, gt_tpl), dev_type_list in cluster_dict.items():\n",
    "            # Any dev type in the cluster allows us to find the clusters we are g.t. (hence `dev_type_list[0]`)\n",
    "            to_extend = [(clusterMap[dev_type_list[0]], clusterMap[x]) for x in gt_tpl]\n",
    "            cluster_edges.extend(to_extend)\n",
    "            \n",
    "        # uniquify cluster edges -- we may have multiples b/c devtype_id => cluster_id can be \n",
    "        # many-to-one\n",
    "        cluster_edges = list(set(cluster_edges))\n",
    "            \n",
    "        # print('cluster_dict', cluster_dict)\n",
    "        clusters = []\n",
    "        for dt_list in cluster_dict.values():\n",
    "            clusterId = clusterMap[dt_list[0]]\n",
    "            devType_list = [DevType(dt_id, self.devTypeList[dt_id], devtype_means[dt_id]) for dt_id in dt_list]\n",
    "            clusters.append(Cluster(clusterId, devType_list))\n",
    "        \n",
    "        return clusters, cluster_edges"
   ]
  },
  {
   "cell_type": "markdown",
   "metadata": {},
   "source": [
    "### Example Use of DevType Cluster Directed Graph\n",
    "\n",
    "An example of using the dev type cluster directed graph code. This illustrates how the code is used, and you can see examples of inputs and outputs."
   ]
  },
  {
   "cell_type": "code",
   "execution_count": 30,
   "metadata": {},
   "outputs": [],
   "source": [
    "# multi-level\n",
    "mx_ml = all_pairwiseJobSatDiffAndPval(ac_job_sat_weighted, ['Academic researcher', 'Engineer, data', 'System administrator', 'Educator', 'Developer, mobile'])"
   ]
  },
  {
   "cell_type": "code",
   "execution_count": 31,
   "metadata": {
    "scrolled": true
   },
   "outputs": [],
   "source": [
    "cg_ml = ClusterGraph(mx_ml)"
   ]
  },
  {
   "cell_type": "code",
   "execution_count": 32,
   "metadata": {
    "scrolled": true
   },
   "outputs": [
    {
     "data": {
      "text/plain": [
       "['Academic researcher',\n",
       " 'Engineer, data',\n",
       " 'System administrator',\n",
       " 'Educator',\n",
       " 'Developer, mobile']"
      ]
     },
     "execution_count": 32,
     "metadata": {},
     "output_type": "execute_result"
    }
   ],
   "source": [
    "cg_ml.devTypeList"
   ]
  },
  {
   "cell_type": "code",
   "execution_count": 33,
   "metadata": {
    "scrolled": false
   },
   "outputs": [
    {
     "data": {
      "text/plain": [
       "[Cluster(id=0, devtypes=[DevType(id=0, name='Academic researcher', score=2.697746076444665), DevType(id=3, name='Educator', score=2.69423547249967)]),\n",
       " Cluster(id=1, devtypes=[DevType(id=1, name='Engineer, data', score=2.681527954273926)]),\n",
       " Cluster(id=2, devtypes=[DevType(id=2, name='System administrator', score=2.6227522982018825)]),\n",
       " Cluster(id=3, devtypes=[DevType(id=4, name='Developer, mobile', score=2.5887855975204195)])]"
      ]
     },
     "execution_count": 33,
     "metadata": {},
     "output_type": "execute_result"
    }
   ],
   "source": [
    "cg_ml.clusters"
   ]
  },
  {
   "cell_type": "code",
   "execution_count": 35,
   "metadata": {},
   "outputs": [
    {
     "data": {
      "text/plain": [
       "[(0, 3), (1, 3), (0, 2)]"
      ]
     },
     "execution_count": 35,
     "metadata": {},
     "output_type": "execute_result"
    }
   ],
   "source": [
    "cg_ml.edges"
   ]
  },
  {
   "cell_type": "markdown",
   "metadata": {},
   "source": [
    "## DevType Cluster Graphing\n",
    "\n",
    "Display dev type cluster digraphs using the graphviz library."
   ]
  },
  {
   "cell_type": "code",
   "execution_count": 38,
   "metadata": {},
   "outputs": [],
   "source": [
    "import matplotlib.colors as plotcolors\n",
    "\n",
    "class Colors:\n",
    "    \"\"\"Colors for use in bar chart and cluster graph. \n",
    "    \n",
    "    We want the colors to match for each visualization.\n",
    "    \"\"\"\n",
    "    colors_3byte = [plotcolors.get_named_colors_mapping()[x] for x in ['tab:blue',\n",
    "                     'tab:orange',\n",
    "                     'tab:green',\n",
    "                     'tab:red',\n",
    "                     'tab:purple',\n",
    "                     'tab:brown',\n",
    "                     'tab:pink',\n",
    "                     'tab:gray',\n",
    "                     'tab:olive',\n",
    "                     'tab:cyan']]\n",
    "    n_colors = len(colors_3byte)\n",
    "    \n",
    "    @classmethod\n",
    "    def get_color(cl, index, is_graph=True):\n",
    "        \"\"\"Return a color given an index value.\n",
    "        \"\"\"\n",
    "        # double the number of distinct colors by using full and less saturation\n",
    "        q, color_ix = divmod(index, cl.n_colors)\n",
    "        less_saturation = q % 2 == 1\n",
    "        \n",
    "        # saturation depends on [chart_type, saturation]\n",
    "        saturation_lookup = [['ff', 'a0'],    # for bar chart\n",
    "                             ['80', '40']]    # for graph\n",
    "        return f\"{cl.colors_3byte[color_ix]}{saturation_lookup[is_graph][less_saturation]}\"\n",
    "        "
   ]
  },
  {
   "cell_type": "code",
   "execution_count": 39,
   "metadata": {},
   "outputs": [],
   "source": [
    "import pydotplus\n",
    "from IPython.display import Image\n",
    "\n",
    "# Add graphviz to path so it is found in pydotplus library calls. I had to do this in Windows. YMMV.\n",
    "import os\n",
    "os.environ[\"PATH\"] += os.pathsep + r'C:\\Users\\USER\\anaconda3\\envs\\jptrlab-pip\\Library\\bin\\graphviz'"
   ]
  },
  {
   "cell_type": "code",
   "execution_count": 40,
   "metadata": {},
   "outputs": [],
   "source": [
    "class GraphDot:\n",
    "    \"\"\"\n",
    "    Convert a ClusterGraph to a (graphviz) dot format string.\n",
    "    \"\"\"\n",
    "    tab = ' '*4\n",
    "    \n",
    "    @classmethod\n",
    "    def graphStr(cls, clusterGraph):\n",
    "        \"\"\"Convert a ClusterGraph to a (graphviz) dot format string.\n",
    "        \"\"\"\n",
    "        nodes_str = f'\\n\\n{cls.tab}'.join([cls.nodeStr(cluster) for cluster in clusterGraph.clusters])\n",
    "        edges_str = f'\\n{cls.tab}'.join([cls.edgeStr(edge) for edge in clusterGraph.edges])\n",
    "        s = f'''digraph G {{\n",
    "    graph[\n",
    "    rankdir=\"TB\"\n",
    "    ];\n",
    "    node [\n",
    "    shape=box,\n",
    "    style=\"rounded,filled\"\n",
    "    fontname=\"Helvetica\",\n",
    "    fontsize=9\n",
    "    ];\n",
    "\n",
    "    {nodes_str}\n",
    "\n",
    "    {edges_str}\n",
    "}}'''\n",
    "        return s\n",
    "    \n",
    "    @classmethod\n",
    "    def nodeStr(cls, cluster):\n",
    "        \"\"\"Generate part of dot string that describes nodes.\n",
    "        \"\"\"\n",
    "        # sort the devtypes by score, descending \n",
    "        sorted_devtypes = sorted(cluster.devtypes, key=lambda x: x.score, reverse=True)\n",
    "        nodecolor = f'\\n{cls.tab}fillcolor=\"{Colors.get_color(cluster.id, is_graph=True)}\"'\n",
    "        nodelabel = f'\\n{cls.tab}label={cls.nodeLabelStr([x.name for x in sorted_devtypes])}'\n",
    "        return f'{cluster.id} [{nodecolor}{nodelabel}\\n{cls.tab}]'\n",
    "    \n",
    "    @classmethod\n",
    "    def nodeLabelStr(cls, text_list):\n",
    "        \"\"\"Generate part of dot string that describes node labels.\n",
    "        \"\"\"\n",
    "        guts = f'\\n{cls.tab*2}' + f'\\n{cls.tab*2}'.join([f\"<tr><td>{text}</td></tr>\" for text in text_list])\n",
    "        label = f'<\\n{cls.tab}<table border=\"0\">{guts}\\n{cls.tab}</table>>'\n",
    "        return label\n",
    "    \n",
    "    @staticmethod\n",
    "    def edgeStr(edge):\n",
    "        \"\"\"Generate part of dot string that describes an edge.\n",
    "        \"\"\"\n",
    "        return f'{edge[0]} -> {edge[1]}'"
   ]
  },
  {
   "cell_type": "markdown",
   "metadata": {},
   "source": [
    "### Example of displaying a digraph"
   ]
  },
  {
   "cell_type": "code",
   "execution_count": 41,
   "metadata": {
    "scrolled": true
   },
   "outputs": [
    {
     "name": "stdout",
     "output_type": "stream",
     "text": [
      "digraph G {\n",
      "    graph[\n",
      "    rankdir=\"TB\"\n",
      "    ];\n",
      "    node [\n",
      "    shape=box,\n",
      "    style=\"rounded,filled\"\n",
      "    fontname=\"Helvetica\",\n",
      "    fontsize=9\n",
      "    ];\n",
      "\n",
      "    0 [\n",
      "    fillcolor=\"#1f77b480\"\n",
      "    label=<\n",
      "    <table border=\"0\">\n",
      "        <tr><td>Academic researcher</td></tr>\n",
      "        <tr><td>Educator</td></tr>\n",
      "    </table>>\n",
      "    ]\n",
      "\n",
      "    1 [\n",
      "    fillcolor=\"#ff7f0e80\"\n",
      "    label=<\n",
      "    <table border=\"0\">\n",
      "        <tr><td>Engineer, data</td></tr>\n",
      "    </table>>\n",
      "    ]\n",
      "\n",
      "    2 [\n",
      "    fillcolor=\"#2ca02c80\"\n",
      "    label=<\n",
      "    <table border=\"0\">\n",
      "        <tr><td>System administrator</td></tr>\n",
      "    </table>>\n",
      "    ]\n",
      "\n",
      "    3 [\n",
      "    fillcolor=\"#d6272880\"\n",
      "    label=<\n",
      "    <table border=\"0\">\n",
      "        <tr><td>Developer, mobile</td></tr>\n",
      "    </table>>\n",
      "    ]\n",
      "\n",
      "    0 -> 3\n",
      "    1 -> 3\n",
      "    0 -> 2\n",
      "}\n"
     ]
    }
   ],
   "source": [
    "print(GraphDot.graphStr(cg_ml))"
   ]
  },
  {
   "cell_type": "code",
   "execution_count": 42,
   "metadata": {
    "scrolled": true
   },
   "outputs": [
    {
     "data": {
      "image/png": "[encoded data removed]",
      "text/plain": [
       "<IPython.core.display.Image object>"
      ]
     },
     "execution_count": 42,
     "metadata": {},
     "output_type": "execute_result"
    }
   ],
   "source": [
    "gr_test1 = pydotplus.graph_from_dot_data(GraphDot.graphStr(cg_ml))\n",
    "Image(gr_test1.create_png())"
   ]
  },
  {
   "cell_type": "markdown",
   "metadata": {},
   "source": [
    "## Weighted JobSat Mean + Confidence Intervals - Bar Chart\n",
    "\n",
    "Code to display weighted JobSat mean with confidence intervals on a bar chart."
   ]
  },
  {
   "cell_type": "code",
   "execution_count": 43,
   "metadata": {},
   "outputs": [],
   "source": [
    "def jobSatMeanAnd_CI(df, ci_pct=85, bootstrap_n = 10000):\n",
    "    \"\"\"\n",
    "    For a single DevType, compute the mean satisfaction and confidence interval.\n",
    "    \n",
    "    Arguments:\n",
    "        df: DataFrame with columns 'DevTypeWeight' and 'WeightedJobSat'\n",
    "        ci_pct: Confidence interval size, in percent; default 90%.\n",
    "        bootstrap_n: Number of bootstrap iterations for compuation of confidence intervals.\n",
    "        \n",
    "    Return:\n",
    "        Tuple of: weighted mean job satisfaction score for this DevType, lower error \n",
    "        bound delta, upper error bound delta.\n",
    "    \"\"\"\n",
    "    source_sample = df[['DevTypeWeight', 'WeightedJobSat']]\n",
    "    # The job satisfaction of an individual is divided among all their roles.\n",
    "    # The mean job satisfaction for a role is given by the sum of these divided (\"weighted\") \n",
    "    # job satisfaction scores, divided by the sum of the weights. Each weight is the reciprocal\n",
    "    # of the number of roles of an individual.\n",
    "    source_mean = source_sample.WeightedJobSat.sum() / source_sample.DevTypeWeight.sum()\n",
    "    \n",
    "    mean_list = [] # list of means from bootstrap sample\n",
    "    \n",
    "    for _ in range(bootstrap_n):\n",
    "        sample = source_sample.sample(n=source_sample.shape[0], replace=True)\n",
    "        mean_list.append(sample.WeightedJobSat.sum() / sample.DevTypeWeight.sum())\n",
    "    \n",
    "    ci_tail_pct = (100 - ci_pct) / 2\n",
    "    percentiles = np.percentile(mean_list, [ci_tail_pct, 100-ci_tail_pct])\n",
    "    # print(percentiles)\n",
    "    lower_bound_delta = source_mean - percentiles[0]\n",
    "    upper_bound_delta = percentiles[1] - source_mean\n",
    "    \n",
    "    return source_mean, lower_bound_delta, upper_bound_delta\n",
    "    "
   ]
  },
  {
   "cell_type": "code",
   "execution_count": 44,
   "metadata": {},
   "outputs": [],
   "source": [
    "def clusterJobSatMeanAnd_CI(df, clusterList, ci_pct=85, bootstrap_n = 1000):\n",
    "    \"\"\"\n",
    "    For the devTypes in a ClusterGraph, compute the mean satisfaction and confidence interval.\n",
    "    Also return the color to use for each devtype in a bar chart, indicating the cluster they\n",
    "    belong to.\n",
    "    \n",
    "    Arguments:\n",
    "        df: DataFrame with columns 'DevTypeWeight' and 'WeightedJobSat'\n",
    "        clusterList: The `clusterlist` field of a ClusterGraph, indicating how devTypes are clustered.\n",
    "        ci_pct: Confidence interval size, in percent.\n",
    "        bootstrap_n: Number of bootstrap iterations for compuation of confidence intervals.\n",
    "        \n",
    "    Return\n",
    "        - List of (<tuple from JobSatMeanAnd_CI>, <devtype_name>), one per devType\n",
    "        - List of colors to use for each devType (same order as previous list)\n",
    "    \"\"\"\n",
    "    # Create a list of devType names and corresponding colors, according to the ordering\n",
    "    # implied by the clusterList.\n",
    "    devTypes = []; colors = []\n",
    "    \n",
    "    # Sort clusters by the median score of their contained devtypes\n",
    "    sorted_clusters = sorted(clusterList, \n",
    "                             key=lambda cluster: np.median([x.score for x in cluster.devtypes]),\n",
    "                             reverse=True)\n",
    "    \n",
    "    # All the devTypes in a cluster get the same color\n",
    "    for cluster in sorted_clusters:\n",
    "        clusterColor = Colors.get_color(cluster.id)\n",
    "        for dt in sorted(cluster.devtypes, key=lambda x: x.score, reverse=True):\n",
    "            devTypes.append(dt.name)\n",
    "            colors.append(clusterColor)\n",
    "    \n",
    "    mean_ci_list = []\n",
    "    for devtype in devTypes:\n",
    "        devtype_df = df[df.DevType == devtype]\n",
    "        mean_ci = jobSatMeanAnd_CI(devtype_df, ci_pct, bootstrap_n)\n",
    "        # link devtype to its stats \n",
    "        mean_ci_list.append((mean_ci, devtype))\n",
    "        \n",
    "    \n",
    "    return mean_ci_list, colors"
   ]
  },
  {
   "cell_type": "markdown",
   "metadata": {},
   "source": [
    "**Example call to clusterJobSatMeanAnd_CI**"
   ]
  },
  {
   "cell_type": "code",
   "execution_count": 45,
   "metadata": {},
   "outputs": [
    {
     "data": {
      "text/plain": [
       "[Cluster(id=0, devtypes=[DevType(id=0, name='Academic researcher', score=2.697746076444665), DevType(id=3, name='Educator', score=2.69423547249967)]),\n",
       " Cluster(id=1, devtypes=[DevType(id=1, name='Engineer, data', score=2.681527954273926)]),\n",
       " Cluster(id=2, devtypes=[DevType(id=2, name='System administrator', score=2.6227522982018825)]),\n",
       " Cluster(id=3, devtypes=[DevType(id=4, name='Developer, mobile', score=2.5887855975204195)])]"
      ]
     },
     "execution_count": 45,
     "metadata": {},
     "output_type": "execute_result"
    }
   ],
   "source": [
    "cg_ml.clusters"
   ]
  },
  {
   "cell_type": "code",
   "execution_count": 47,
   "metadata": {},
   "outputs": [],
   "source": [
    "stats, color_list = clusterJobSatMeanAnd_CI(ac_job_sat_weighted, cg_ml.clusters)"
   ]
  },
  {
   "cell_type": "code",
   "execution_count": 48,
   "metadata": {},
   "outputs": [
    {
     "name": "stdout",
     "output_type": "stream",
     "text": [
      "[((2.697746076444665, 0.04783515179900899, 0.04298286085742831), 'Academic researcher'), ((2.69423547249967, 0.04795616811170689, 0.04677626210360053), 'Educator'), ((2.681527954273926, 0.040553192460286436, 0.03960470576464825), 'Engineer, data'), ((2.6227522982018825, 0.03375461528759738, 0.030928327547278034), 'System administrator'), ((2.5887855975204195, 0.025716467847590962, 0.026128028949688797), 'Developer, mobile')] \n",
      "\n",
      "['#1f77b480', '#1f77b480', '#ff7f0e80', '#2ca02c80', '#d6272880']\n"
     ]
    }
   ],
   "source": [
    "print(stats, '\\n')\n",
    "print(color_list)"
   ]
  },
  {
   "cell_type": "markdown",
   "metadata": {},
   "source": [
    "### Bar Chart"
   ]
  },
  {
   "cell_type": "code",
   "execution_count": 127,
   "metadata": {},
   "outputs": [],
   "source": [
    "def barPlotMeanAnd_CI(mean_ci_list, color_list, val_name='Mean Job Satisfaction'):\n",
    "    \"\"\"\n",
    "    Create bar plot + confidence intervals for specified categories and CIs.\n",
    "    \n",
    "    Arguments:\n",
    "        mean_ci_list: List of ((<mean>, <ci_low_delta>, <ci_hi_delta>), <category_name>)\n",
    "    \"\"\"\n",
    "    stats, cat_names = tuple(zip(*mean_ci_list))\n",
    "    \n",
    "    # Use shorter name, if available\n",
    "    cat_names = [DISPLAY_NAMES.get(name, name) for name in cat_names]\n",
    "    \n",
    "    means = [mean for mean,_,_ in stats]\n",
    "    \n",
    "    y_err = [[lo for _, lo, _ in stats],\n",
    "             [hi for _, _, hi in stats]]\n",
    "    \n",
    "    data = pd.DataFrame(data=means, index=cat_names, columns=[val_name])\n",
    "    \n",
    "    data.plot.bar(figsize=(10,6), ylim=(2.4,2.9), yerr=y_err, legend=False, color=[color_list], edgecolor='black')\n",
    "    plt.ylabel('Weighted Mean Job Satisfaction')\n",
    "    plt.show()"
   ]
  },
  {
   "cell_type": "markdown",
   "metadata": {},
   "source": [
    "**Example Bar Chart**"
   ]
  },
  {
   "cell_type": "code",
   "execution_count": 128,
   "metadata": {},
   "outputs": [
    {
     "data": {
      "image/png": "[encoded data removed]",
      "text/plain": [
       "<Figure size 720x432 with 1 Axes>"
      ]
     },
     "metadata": {
      "needs_background": "light"
     },
     "output_type": "display_data"
    }
   ],
   "source": [
    "barPlotMeanAnd_CI(stats, color_list)"
   ]
  },
  {
   "cell_type": "markdown",
   "metadata": {},
   "source": [
    "## Compare One to Many - Bar Chart"
   ]
  },
  {
   "cell_type": "markdown",
   "metadata": {},
   "source": [
    "A limitation of the cluster digraph +  mean/confidence interval bar chart visualization is that its indication of significant differences is dependent on the selection of a p-value threshold. It is less successful in communicating **degrees** of significance. \n",
    "\n",
    "The following visualization accurately reflects p-values of differences between one category and all other categories. Reciprocal p-values are shown so that larger bars indicate greater significance. A bar above the bottom dotted line indicates significance at the 0.05 level; above the top dashed line indicates significance at the 0.01 level. A red bar indicates that the developer type in the title has a significantly lower mean satisfaction score; green indicates significantly higher.\n",
    "\n",
    "An ensemble of these visualizations (one per category) provides an accurate visualization of the standing of each category relative to the others.\n",
    "\n",
    "Another possible shortcoming of the cluster digraph may be a tendency to interpret nodes appearing at a high level of the digraph as superior to those at lower levels. However, this is true **only** if there is a directed edge from the nodes in question to inferior nodes. For example, nodes corresponding to a statistic drawn from a sample distribution with a large variance are likely to appear at or near the top level of the digraph simply because the difference from other high-level nodes is not statistically significant.\n",
    "\n",
    "This potential source of misinterpretation is not present in the following \"comparison to many\" bar chart. Categories with a large sample distribution variance will be visually evident in this visualization. (See the example calls to multi_bar_compare_others() below for Product Manager and Site Reliability Engineer, two large-variance categories.)"
   ]
  },
  {
   "cell_type": "code",
   "execution_count": 191,
   "metadata": {},
   "outputs": [],
   "source": [
    "def barCompareOthers(mx, subjectDt, figsize=None, ax=None, labels=True):\n",
    "    \"\"\"Plot the significance (inverse p-value) of the mean difference between the subject dev type\n",
    "    and all others.\n",
    "    \n",
    "    Significant (p<0.5) negative mean differences are rendered red; significant positive mean \n",
    "    differences are rendered green. Two orizontal lines on the chart indicate levels of p=0.05 and \n",
    "    p=0.01.\n",
    "    \n",
    "    Args\n",
    "        mx (PairwiseJobSatMx): Mean diff and p-values for pairs of dev types\n",
    "        subjectDt (int): index of dev type to compare to all others\n",
    "        \n",
    "    \"\"\"\n",
    "    def invert_pval(x):\n",
    "        return 1/x if x > 0 else 200\n",
    "    \n",
    "    score_name_list = []\n",
    "    sign_list = []\n",
    "    shortDevTypeList = [DISPLAY_NAMES.get(name, name) for name in mx.devTypeList]\n",
    "    \n",
    "    for ix, name in [(ix, name) for ix,name in enumerate(shortDevTypeList) if ix != subjectDt]:\n",
    "        sign = -1 if mx.mean_diff[subjectDt, ix] < 0 else 1\n",
    "        sign_list.append(sign)\n",
    "        # sort by (signed_pval, mean_diff) as many identical signed_pval are possible (see invert_pval())\n",
    "        sort_key = (sign*invert_pval(mx.p_vals[subjectDt, ix]), mx.mean_diff[subjectDt, ix])\n",
    "        score_name_list.append((sort_key, name))\n",
    "    score_name_list.sort()\n",
    "    \n",
    "    # (neg, large), (neg, small), (pos, small), (pos, large)\n",
    "    colordict = {(True, True): 'indianred', (True, False): 'peru', (False, False): 'peru', (False, True): 'yellowgreen'}\n",
    "    colors = [colordict[(sort_key[0]<0), (abs(sort_key[0])>=20)] for sort_key, _ in score_name_list]\n",
    "    bar_df = pd.DataFrame(data = [abs(sort_key[0]) for sort_key, _ in score_name_list],\n",
    "                          index = [name for _, name in score_name_list],\n",
    "                          columns=['inverse p-val'])\n",
    "    bar_df.plot.bar(figsize=figsize, ylim=(0,110), legend=False, color=[colors], ax=ax);\n",
    "    if not labels:\n",
    "        ax.set_xticks([], []) #(['']*len(score_name_list))\n",
    "    ax.axhline(y=20, linestyle='dotted', label='p=0.05')\n",
    "    ax.axhline(y=100, linestyle='--', label='p=0.01')\n",
    "    if labels:\n",
    "        ax.set_ylabel('inverse p-val')\n",
    "    subject_dt_name = mx.devTypeList[subjectDt]\n",
    "    ax.set_title(DISPLAY_NAMES.get(subject_dt_name, subject_dt_name), fontweight='semibold')\n",
    "    # plt.legend()\n",
    "    #plt.show()"
   ]
  },
  {
   "cell_type": "code",
   "execution_count": 179,
   "metadata": {},
   "outputs": [],
   "source": [
    "def sort_dt_ix_by_mean(mx, dt_ix_list):\n",
    "    \"\"\"Sort DevType indices by their JobSat mean, in descending order.\n",
    "    \n",
    "    Args:\n",
    "        mx (PairwiseJobSatMx): Source for mean JobSat scores\n",
    "        dt_ix_list (list of int): Indices of DevTypes of interest\n",
    "        \n",
    "    Return:\n",
    "        A list of the supplied DevType indices, now sorted by JobSat mean.\n",
    "    \"\"\"\n",
    "    dt_ix_set = set(dt_ix_list)\n",
    "    compare_to = 2 # mobile developer\n",
    "    scored_dt_ix = [(mean, dt_ix) for dt_ix, mean in enumerate(mx.devtype_means) if dt_ix in dt_ix_set]\n",
    "    scored_dt_ix.sort(reverse=True)\n",
    "    return [dt_ix for mean, dt_ix in scored_dt_ix]"
   ]
  },
  {
   "cell_type": "code",
   "execution_count": 181,
   "metadata": {},
   "outputs": [],
   "source": [
    "def multi_bar_compare_others(mx, dt_ix_list, nrows, ncols, figsize, labels=True, sort_dts=True):\n",
    "    \"\"\"Plot a matrix of devtype comparison charts.\n",
    "    \n",
    "    Args:\n",
    "        mx (PairwiseJobSatMx): Source for comparisons of DevTypes\n",
    "        dt_ix_list: list of indices of DevTypes to compare\n",
    "        nrows: Number of rows of plots to create\n",
    "        ncols: Number of columns of plots to create\n",
    "        figsize: Overall size of the figure\n",
    "    \"\"\"\n",
    "    if sort_dts:\n",
    "        dt_ix_list = sort_dt_ix_by_mean(mx, dt_ix_list)\n",
    "    fig = plt.figure(figsize=figsize)\n",
    "    for ix, dt_ix in enumerate(dt_ix_list):\n",
    "        ax = fig.add_subplot(nrows, ncols, ix+1)\n",
    "        barCompareOthers(mx, dt_ix, figsize=figsize, ax=ax, labels=labels)"
   ]
  },
  {
   "cell_type": "markdown",
   "metadata": {},
   "source": [
    "### Example"
   ]
  },
  {
   "cell_type": "code",
   "execution_count": 196,
   "metadata": {},
   "outputs": [
    {
     "data": {
      "image/png": "[encoded data removed]",
      "text/plain": [
       "<Figure size 1080x360 with 2 Axes>"
      ]
     },
     "metadata": {
      "needs_background": "light"
     },
     "output_type": "display_data"
    }
   ],
   "source": [
    "# Prod Mgr, and Site Reliability\n",
    "multi_bar_compare_others(ac_mx, [18, 20], 1, 2, figsize=(15,5), labels=True)"
   ]
  },
  {
   "cell_type": "markdown",
   "metadata": {},
   "source": [
    "# Compare Developer Satisfaction\n",
    "\n",
    "Here we address several of the questions introduced in **Section 1** **Business Understanding**:\n",
    "2. How do developer roles compare to one another in the job satisfaction reported in the survey?\n",
    "3. Are the reported differences in job satisfaction among developer roles statistically significant?"
   ]
  },
  {
   "cell_type": "code",
   "execution_count": 55,
   "metadata": {},
   "outputs": [],
   "source": [
    "# Exclude Sr. Executive/VP and Marketing or Sales. Many fewer instances with these types, and\n",
    "# for the blog post I choose to focus on roles with software focus.\n",
    "relevant_devtypes = ['Developer, desktop or enterprise applications',\n",
    "       'Developer, full-stack', 'Developer, mobile', 'Designer',\n",
    "       'Developer, front-end', 'Developer, back-end',\n",
    "       'Developer, QA or test', 'DevOps specialist',\n",
    "       'Developer, game or graphics', 'Database administrator',\n",
    "       'Developer, embedded applications or devices', 'Engineer, data',\n",
    "       'Educator', 'System administrator', 'Data or business analyst',\n",
    "       'Academic researcher',\n",
    "       'Data scientist or machine learning specialist',\n",
    "       'Engineering manager', 'Product manager', 'Scientist', 'Engineer, site reliability']"
   ]
  },
  {
   "cell_type": "markdown",
   "metadata": {},
   "source": [
    "**Compute mean differences and p-vals for all DevType pairs**"
   ]
  },
  {
   "cell_type": "code",
   "execution_count": 56,
   "metadata": {},
   "outputs": [],
   "source": [
    "ac_mx = all_pairwiseJobSatDiffAndPval(ac_job_sat_weighted, devTypeList=relevant_devtypes, bootstrap_n = 5000)"
   ]
  },
  {
   "cell_type": "code",
   "execution_count": 60,
   "metadata": {},
   "outputs": [],
   "source": [
    "# Save the results of all_pairwiseJobSatDiffAndPval()\n",
    "import pickle\n",
    "with open(r'.\\output\\all_mx.pickled', 'wb') as fyl:\n",
    "    pickle.dump(ac_mx, fyl)"
   ]
  },
  {
   "cell_type": "code",
   "execution_count": 67,
   "metadata": {},
   "outputs": [],
   "source": [
    "# Load mean differences and p-vals for all DevType pairs\n",
    "#with open(r'.\\output\\all_mx.pickled', 'rb') as fyl:\n",
    "#    tmx1 = pickle.load(fyl)"
   ]
  },
  {
   "cell_type": "markdown",
   "metadata": {},
   "source": [
    "**Compute DevType clusters digraph, and generate graph image with graphviz**"
   ]
  },
  {
   "cell_type": "code",
   "execution_count": 68,
   "metadata": {},
   "outputs": [
    {
     "data": {
      "text/plain": [
       "True"
      ]
     },
     "execution_count": 68,
     "metadata": {},
     "output_type": "execute_result"
    }
   ],
   "source": [
    "ac_cg = ClusterGraph(ac_mx)\n",
    "ac_gr = pydotplus.graph_from_dot_data(GraphDot.graphStr(ac_cg))\n",
    "ac_gr.write_png(r'output\\ac_graph.png')"
   ]
  },
  {
   "cell_type": "code",
   "execution_count": 70,
   "metadata": {},
   "outputs": [
    {
     "data": {
      "text/plain": [
       "True"
      ]
     },
     "execution_count": 70,
     "metadata": {},
     "output_type": "execute_result"
    }
   ],
   "source": [
    "# Transitive reduction of graph edges to simplify graph\n",
    "import subprocess\n",
    "res = subprocess.run(['tred'], text=True, input=GraphDot.graphStr(ac_cg), capture_output=True)\n",
    "ac_gr_reduced = pydotplus.graph_from_dot_data(res.stdout)\n",
    "ac_gr_reduced.write_png(r'output\\ac_graph_reduced.png')"
   ]
  },
  {
   "cell_type": "markdown",
   "metadata": {},
   "source": [
    "**Generate Bar Chart**"
   ]
  },
  {
   "cell_type": "code",
   "execution_count": 72,
   "metadata": {},
   "outputs": [],
   "source": [
    "stats, color_list = clusterJobSatMeanAnd_CI(ac_job_sat_weighted, ac_cg.clusters, bootstrap_n=5000)"
   ]
  },
  {
   "cell_type": "code",
   "execution_count": 129,
   "metadata": {},
   "outputs": [
    {
     "data": {
      "image/png": "[encoded data removed]",
      "text/plain": [
       "<Figure size 720x432 with 1 Axes>"
      ]
     },
     "metadata": {
      "needs_background": "light"
     },
     "output_type": "display_data"
    }
   ],
   "source": [
    "barPlotMeanAnd_CI(stats, color_list)"
   ]
  },
  {
   "cell_type": "markdown",
   "metadata": {},
   "source": [
    "**One to Many Comparison Plot**"
   ]
  },
  {
   "cell_type": "code",
   "execution_count": 111,
   "metadata": {
    "scrolled": true
   },
   "outputs": [
    {
     "data": {
      "text/plain": [
       "[(0, 'Developer, desktop or enterprise applications'),\n",
       " (1, 'Developer, full-stack'),\n",
       " (2, 'Developer, mobile'),\n",
       " (3, 'Designer'),\n",
       " (4, 'Developer, front-end'),\n",
       " (5, 'Developer, back-end'),\n",
       " (6, 'Developer, QA or test'),\n",
       " (7, 'DevOps specialist'),\n",
       " (8, 'Developer, game or graphics'),\n",
       " (9, 'Database administrator'),\n",
       " (10, 'Developer, embedded applications or devices'),\n",
       " (11, 'Engineer, data'),\n",
       " (12, 'Educator'),\n",
       " (13, 'System administrator'),\n",
       " (14, 'Data or business analyst'),\n",
       " (15, 'Academic researcher'),\n",
       " (16, 'Data scientist or machine learning specialist'),\n",
       " (17, 'Engineering manager'),\n",
       " (18, 'Product manager'),\n",
       " (19, 'Scientist'),\n",
       " (20, 'Engineer, site reliability')]"
      ]
     },
     "execution_count": 111,
     "metadata": {},
     "output_type": "execute_result"
    }
   ],
   "source": [
    "list(enumerate(ac_mx.devTypeList))"
   ]
  },
  {
   "cell_type": "code",
   "execution_count": 196,
   "metadata": {},
   "outputs": [
    {
     "data": {
      "image/png": "[encoded data removed]",
      "text/plain": [
       "<Figure size 1080x360 with 2 Axes>"
      ]
     },
     "metadata": {
      "needs_background": "light"
     },
     "output_type": "display_data"
    }
   ],
   "source": [
    "# Prod Mgr, and Site Reliability\n",
    "multi_bar_compare_others(ac_mx, [18, 20], 1, 2, figsize=(15,5), labels=True)"
   ]
  },
  {
   "cell_type": "code",
   "execution_count": 197,
   "metadata": {
    "scrolled": false
   },
   "outputs": [
    {
     "data": {
      "image/png": "[encoded data removed]",
      "text/plain": [
       "<Figure size 1008x504 with 6 Axes>"
      ]
     },
     "metadata": {
      "needs_background": "light"
     },
     "output_type": "display_data"
    }
   ],
   "source": [
    "# Level 2, without prod mgr, site reliability\n",
    "multi_bar_compare_others(ac_mx, [8, 17, 11, 12, 7, 15], 2, 3, figsize=(14,7), labels=False)"
   ]
  },
  {
   "cell_type": "code",
   "execution_count": 192,
   "metadata": {
    "scrolled": false
   },
   "outputs": [
    {
     "data": {
      "image/png": "[encoded data removed]",
      "text/plain": [
       "<Figure size 864x648 with 9 Axes>"
      ]
     },
     "metadata": {
      "needs_background": "light"
     },
     "output_type": "display_data"
    }
   ],
   "source": [
    "# Level 3\n",
    "multi_bar_compare_others(ac_mx, [6, 14, 0, 3, 4, 1, 13, 9, 10], 3, 3, figsize=(12,9), labels=False)"
   ]
  },
  {
   "cell_type": "code",
   "execution_count": 187,
   "metadata": {
    "scrolled": false
   },
   "outputs": [
    {
     "data": {
      "image/png": "[encoded data removed]",
      "text/plain": [
       "<Figure size 864x288 with 2 Axes>"
      ]
     },
     "metadata": {
      "needs_background": "light"
     },
     "output_type": "display_data"
    }
   ],
   "source": [
    "multi_bar_compare_others(ac_mx, [18, 20], 1, 2, figsize=(12,4))"
   ]
  },
  {
   "cell_type": "code",
   "execution_count": 198,
   "metadata": {
    "scrolled": true
   },
   "outputs": [
    {
     "data": {
      "image/png": "[encoded data removed]",
      "text/plain": [
       "<Figure size 864x288 with 2 Axes>"
      ]
     },
     "metadata": {
      "needs_background": "light"
     },
     "output_type": "display_data"
    }
   ],
   "source": [
    "# top two\n",
    "multi_bar_compare_others(ac_mx, [19, 16], 1, 2, figsize=(12,4))"
   ]
  },
  {
   "cell_type": "code",
   "execution_count": 199,
   "metadata": {
    "scrolled": false
   },
   "outputs": [
    {
     "data": {
      "image/png": "[encoded data removed]",
      "text/plain": [
       "<Figure size 864x288 with 2 Axes>"
      ]
     },
     "metadata": {
      "needs_background": "light"
     },
     "output_type": "display_data"
    }
   ],
   "source": [
    "# bottom two\n",
    "multi_bar_compare_others(ac_mx, [2, 5], 1, 2, figsize=(12,4))"
   ]
  }
 ],
 "metadata": {
  "kernelspec": {
   "display_name": "Python 3",
   "language": "python",
   "name": "python3"
  },
  "language_info": {
   "codemirror_mode": {
    "name": "ipython",
    "version": 3
   },
   "file_extension": ".py",
   "mimetype": "text/x-python",
   "name": "python",
   "nbconvert_exporter": "python",
   "pygments_lexer": "ipython3",
   "version": "3.7.6"
  },
  "toc": {
   "base_numbering": 1,
   "nav_menu": {},
   "number_sections": true,
   "sideBar": true,
   "skip_h1_title": false,
   "title_cell": "Table of Contents",
   "title_sidebar": "Contents",
   "toc_cell": false,
   "toc_position": {},
   "toc_section_display": true,
   "toc_window_display": true
  }
 },
 "nbformat": 4,
 "nbformat_minor": 4
}
